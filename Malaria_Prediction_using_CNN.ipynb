{
 "cells": [
  {
   "cell_type": "code",
   "execution_count": 52,
   "id": "d4c9b57d",
   "metadata": {},
   "outputs": [],
   "source": [
    "import os"
   ]
  },
  {
   "cell_type": "code",
   "execution_count": 53,
   "id": "52ca2b35",
   "metadata": {},
   "outputs": [],
   "source": [
    "dir_path = \"C:\\\\Users\\\\MANU VENUGOPAL\\\\Downloads\\\\cell_images\\\\cell_images\""
   ]
  },
  {
   "cell_type": "code",
   "execution_count": 54,
   "id": "c3e524ef",
   "metadata": {},
   "outputs": [
    {
     "data": {
      "text/plain": [
       "['test', 'train']"
      ]
     },
     "execution_count": 54,
     "metadata": {},
     "output_type": "execute_result"
    }
   ],
   "source": [
    "os.listdir(dir_path)"
   ]
  },
  {
   "cell_type": "code",
   "execution_count": 55,
   "id": "e482ed2a",
   "metadata": {},
   "outputs": [],
   "source": [
    "import pandas as pd\n",
    "import numpy as np\n",
    "import matplotlib.pyplot as plt\n",
    "import seaborn as sns\n",
    "from matplotlib.image import imread #Used to get information from Image."
   ]
  },
  {
   "cell_type": "code",
   "execution_count": 56,
   "id": "493ccb02",
   "metadata": {},
   "outputs": [],
   "source": [
    "test_path = dir_path + '\\\\test\\\\'\n",
    "train_path = dir_path + '\\\\train\\\\'"
   ]
  },
  {
   "cell_type": "code",
   "execution_count": 57,
   "id": "fcd5d7d0",
   "metadata": {},
   "outputs": [
    {
     "data": {
      "text/plain": [
       "'C:\\\\Users\\\\MANU VENUGOPAL\\\\Downloads\\\\cell_images\\\\cell_images\\\\test\\\\'"
      ]
     },
     "execution_count": 57,
     "metadata": {},
     "output_type": "execute_result"
    }
   ],
   "source": [
    "test_path"
   ]
  },
  {
   "cell_type": "code",
   "execution_count": 58,
   "id": "e10cc5b9",
   "metadata": {},
   "outputs": [
    {
     "data": {
      "text/plain": [
       "'C:\\\\Users\\\\MANU VENUGOPAL\\\\Downloads\\\\cell_images\\\\cell_images\\\\train\\\\'"
      ]
     },
     "execution_count": 58,
     "metadata": {},
     "output_type": "execute_result"
    }
   ],
   "source": [
    "train_path"
   ]
  },
  {
   "cell_type": "code",
   "execution_count": 59,
   "id": "7d5561b6",
   "metadata": {},
   "outputs": [
    {
     "name": "stdout",
     "output_type": "stream",
     "text": [
      "['parasitized', 'uninfected']\n",
      "['parasitized', 'uninfected']\n"
     ]
    }
   ],
   "source": [
    "# Examine what is inside the training and testing path\n",
    "print(os.listdir(test_path))\n",
    "print(os.listdir(train_path))"
   ]
  },
  {
   "cell_type": "code",
   "execution_count": 60,
   "id": "24c7f0e5",
   "metadata": {},
   "outputs": [
    {
     "data": {
      "text/plain": [
       "['C100P61ThinF_IMG_20150918_144348_cell_144.png',\n",
       " 'C100P61ThinF_IMG_20150918_145422_cell_165.png',\n",
       " 'C100P61ThinF_IMG_20150918_145609_cell_145.png',\n",
       " 'C100P61ThinF_IMG_20150918_145609_cell_149.png',\n",
       " 'C100P61ThinF_IMG_20150918_145609_cell_150.png',\n",
       " 'C100P61ThinF_IMG_20150918_145938_cell_175.png',\n",
       " 'C100P61ThinF_IMG_20150918_150041_cell_148.png',\n",
       " 'C101P62ThinF_IMG_20150918_151006_cell_64.png',\n",
       " 'C101P62ThinF_IMG_20150918_151239_cell_80.png',\n",
       " 'C101P62ThinF_IMG_20150918_151239_cell_88.png',\n",
       " 'C101P62ThinF_IMG_20150918_151239_cell_99.png',\n",
       " 'C101P62ThinF_IMG_20150918_151335_cell_58.png',\n",
       " 'C101P62ThinF_IMG_20150918_151335_cell_66.png',\n",
       " 'C101P62ThinF_IMG_20150918_151507_cell_60.png',\n",
       " 'C101P62ThinF_IMG_20150918_151507_cell_63.png',\n",
       " 'C101P62ThinF_IMG_20150918_151507_cell_65.png',\n",
       " 'C101P62ThinF_IMG_20150918_151507_cell_70.png',\n",
       " 'C101P62ThinF_IMG_20150918_151507_cell_73.png',\n",
       " 'C101P62ThinF_IMG_20150918_151507_cell_75.png',\n",
       " 'C101P62ThinF_IMG_20150918_151942_cell_63.png',\n",
       " 'C101P62ThinF_IMG_20150918_151942_cell_65.png',\n",
       " 'C101P62ThinF_IMG_20150918_151942_cell_70.png',\n",
       " 'C101P62ThinF_IMG_20150918_151942_cell_86.png',\n",
       " 'C101P62ThinF_IMG_20150918_151942_cell_87.png',\n",
       " 'C101P62ThinF_IMG_20150918_155731_cell_62.png',\n",
       " 'C101P62ThinF_IMG_20150918_155731_cell_66.png',\n",
       " 'C101P62ThinF_IMG_20150918_155731_cell_67.png',\n",
       " 'C101P62ThinF_IMG_20150918_155731_cell_72.png',\n",
       " 'C101P62ThinF_IMG_20150918_155731_cell_85.png',\n",
       " 'C101P62ThinF_IMG_20150923_165215_cell_18.png',\n",
       " 'C101P62ThinF_IMG_20150923_165215_cell_2.png',\n",
       " 'C101P62ThinF_IMG_20150923_165215_cell_31.png',\n",
       " 'C101P62ThinF_IMG_20150923_165215_cell_36.png',\n",
       " 'C101P62ThinF_IMG_20150923_170110_cell_13.png',\n",
       " 'C101P62ThinF_IMG_20150923_170246_cell_69.png',\n",
       " 'C101P62ThinF_IMG_20150923_170246_cell_73.png',\n",
       " 'C101P62ThinF_IMG_20150923_170246_cell_86.png',\n",
       " 'C101P62ThinF_IMG_20150923_170344_cell_83.png',\n",
       " 'C101P62ThinF_IMG_20150923_170344_cell_85.png',\n",
       " 'C101P62ThinF_IMG_20150923_170344_cell_96.png',\n",
       " 'C101P62ThinF_IMG_20150923_170344_cell_99.png',\n",
       " 'C103P64ThinF_IMG_20150918_164250_cell_171.png',\n",
       " 'C103P64ThinF_IMG_20150918_164250_cell_175.png',\n",
       " 'C103P64ThinF_IMG_20150918_164331_cell_184.png',\n",
       " 'C103P64ThinF_IMG_20150918_164553_cell_171.png',\n",
       " 'C103P64ThinF_IMG_20150918_165510_cell_187.png',\n",
       " 'C104P65ThinF_IMG_20150918_172639_cell_183.png',\n",
       " 'C106P67ThinF_IMG_20150924_104044_cell_169.png',\n",
       " 'C107P68ThinF_IMG_20150924_221632_cell_171.png',\n",
       " 'C107P68ThinF_IMG_20150924_221909_cell_155.png',\n",
       " 'C107P68ThinF_IMG_20150924_221909_cell_157.png',\n",
       " 'C107P68ThinF_IMG_20150924_221909_cell_158.png',\n",
       " 'C107P68ThinF_IMG_20150924_222233_cell_152.png',\n",
       " 'C107P68ThinF_IMG_20150924_222233_cell_155.png',\n",
       " 'C107P68ThinF_IMG_20150924_222630_cell_173.png',\n",
       " 'C109P70ThinF_IMG_20150930_103113_cell_161.png',\n",
       " 'C109P70ThinF_IMG_20150930_103811_cell_159.png',\n",
       " 'C110P71ThinF_IMG_20150930_105925_cell_219.png',\n",
       " 'C110P71ThinF_IMG_20150930_105925_cell_220.png',\n",
       " 'C111P72ThinF_IMG_20150930_112609_cell_168.png',\n",
       " 'C112P73ThinF_IMG_20150930_131753_cell_166.png',\n",
       " 'C112P73ThinF_IMG_20150930_131753_cell_168.png',\n",
       " 'C113P74ThinF_IMG_20150930_134355_cell_164.png',\n",
       " 'C113P74ThinF_IMG_20150930_134614_cell_172.png',\n",
       " 'C113P74ThinF_IMG_20150930_134614_cell_173.png',\n",
       " 'C113P74ThinF_IMG_20150930_134614_cell_177.png',\n",
       " 'C113P74ThinF_IMG_20150930_134751_cell_175.png',\n",
       " 'C113P74ThinF_IMG_20150930_134751_cell_178.png',\n",
       " 'C113P74ThinF_IMG_20150930_134949_cell_161.png',\n",
       " 'C113P74ThinF_IMG_20150930_134949_cell_163.png',\n",
       " 'C113P74ThinF_IMG_20150930_135904_cell_186.png',\n",
       " 'C113P74ThinF_IMG_20150930_140646_cell_189.png',\n",
       " 'C114P75ThinF_IMG_20150930_150013_cell_194.png',\n",
       " 'C115P76ThinF_IMG_20150930_161825_cell_220.png',\n",
       " 'C116P77ThinF_IMG_20150930_171219_cell_103.png',\n",
       " 'C116P77ThinF_IMG_20150930_171219_cell_108.png',\n",
       " 'C116P77ThinF_IMG_20150930_171219_cell_112.png',\n",
       " 'C116P77ThinF_IMG_20150930_171219_cell_113.png',\n",
       " 'C116P77ThinF_IMG_20150930_171219_cell_77.png',\n",
       " 'C116P77ThinF_IMG_20150930_171219_cell_88.png',\n",
       " 'C116P77ThinF_IMG_20150930_171448_cell_114.png',\n",
       " 'C116P77ThinF_IMG_20150930_171448_cell_128.png',\n",
       " 'C116P77ThinF_IMG_20150930_171448_cell_85.png',\n",
       " 'C116P77ThinF_IMG_20150930_171448_cell_87.png',\n",
       " 'C116P77ThinF_IMG_20150930_171448_cell_88.png',\n",
       " 'C116P77ThinF_IMG_20150930_171558_cell_100.png',\n",
       " 'C116P77ThinF_IMG_20150930_171558_cell_103.png',\n",
       " 'C116P77ThinF_IMG_20150930_171558_cell_113.png',\n",
       " 'C116P77ThinF_IMG_20150930_171558_cell_114.png',\n",
       " 'C116P77ThinF_IMG_20150930_171558_cell_124.png',\n",
       " 'C116P77ThinF_IMG_20150930_171558_cell_125.png',\n",
       " 'C116P77ThinF_IMG_20150930_171558_cell_127.png',\n",
       " 'C116P77ThinF_IMG_20150930_171558_cell_131.png',\n",
       " 'C116P77ThinF_IMG_20150930_171558_cell_143.png',\n",
       " 'C116P77ThinF_IMG_20150930_171558_cell_149.png',\n",
       " 'C116P77ThinF_IMG_20150930_171558_cell_94.png',\n",
       " 'C116P77ThinF_IMG_20150930_171558_cell_99.png',\n",
       " 'C116P77ThinF_IMG_20150930_171635_cell_104.png',\n",
       " 'C116P77ThinF_IMG_20150930_171635_cell_82.png',\n",
       " 'C116P77ThinF_IMG_20150930_171635_cell_88.png',\n",
       " 'C116P77ThinF_IMG_20150930_171739_cell_109.png',\n",
       " 'C116P77ThinF_IMG_20150930_171739_cell_110.png',\n",
       " 'C116P77ThinF_IMG_20150930_171739_cell_79.png',\n",
       " 'C116P77ThinF_IMG_20150930_171739_cell_83.png',\n",
       " 'C116P77ThinF_IMG_20150930_171739_cell_85.png',\n",
       " 'C116P77ThinF_IMG_20150930_171739_cell_89.png',\n",
       " 'C116P77ThinF_IMG_20150930_171809_cell_63.png',\n",
       " 'C116P77ThinF_IMG_20150930_171844_cell_125.png',\n",
       " 'C116P77ThinF_IMG_20150930_171844_cell_92.png',\n",
       " 'C116P77ThinF_IMG_20150930_171954_cell_106.png',\n",
       " 'C116P77ThinF_IMG_20150930_171954_cell_110.png',\n",
       " 'C116P77ThinF_IMG_20150930_171954_cell_114.png',\n",
       " 'C116P77ThinF_IMG_20150930_171954_cell_89.png',\n",
       " 'C116P77ThinF_IMG_20150930_172112_cell_108.png',\n",
       " 'C116P77ThinF_IMG_20150930_172112_cell_110.png',\n",
       " 'C116P77ThinF_IMG_20150930_172112_cell_64.png',\n",
       " 'C116P77ThinF_IMG_20150930_172112_cell_88.png',\n",
       " 'C116P77ThinF_IMG_20150930_172112_cell_92.png',\n",
       " 'C117P78ThinF_IMG_20150930_214138_cell_92.png',\n",
       " 'C117P78ThinF_IMG_20150930_214317_cell_101.png',\n",
       " 'C117P78ThinF_IMG_20150930_214511_cell_92.png',\n",
       " 'C117P78ThinF_IMG_20150930_214941_cell_78.png',\n",
       " 'C117P78ThinF_IMG_20150930_221927_cell_84.png',\n",
       " 'C118P79ThinF_IMG_20151002_104831_cell_158.png',\n",
       " 'C118P79ThinF_IMG_20151002_104831_cell_163.png',\n",
       " 'C118P79ThinF_IMG_20151002_105018_cell_143.png',\n",
       " 'C118P79ThinF_IMG_20151002_105018_cell_148.png',\n",
       " 'C118P79ThinF_IMG_20151002_105018_cell_150.png',\n",
       " 'C118P79ThinF_IMG_20151002_105125_cell_138.png',\n",
       " 'C118P79ThinF_IMG_20151002_105125_cell_139.png',\n",
       " 'C118P79ThinF_IMG_20151002_105125_cell_140.png',\n",
       " 'C118P79ThinF_IMG_20151002_105346_cell_158.png',\n",
       " 'C118P79ThinF_IMG_20151002_105735_cell_138.png',\n",
       " 'C118P79ThinF_IMG_20151002_105735_cell_139.png',\n",
       " 'C118P79ThinF_IMG_20151002_110002_cell_16.png',\n",
       " 'C118P79ThinF_IMG_20151002_110002_cell_9.png',\n",
       " 'C118P79ThinF_IMG_20151002_110212_cell_17.png',\n",
       " 'C118P79ThinF_IMG_20151002_110212_cell_9.png',\n",
       " 'C118P79ThinF_IMG_20151002_110609_cell_11.png',\n",
       " 'C118P79ThinF_IMG_20151002_110609_cell_15.png',\n",
       " 'C118P79ThinF_IMG_20151002_110725_cell_134.png',\n",
       " 'C118P79ThinF_IMG_20151002_110834_cell_139.png',\n",
       " 'C118P79ThinF_IMG_20151002_110942_cell_18.png',\n",
       " 'C118P79ThinF_IMG_20151002_110942_cell_8.png',\n",
       " 'C119P80ThinF_IMG_20151002_122720_cell_158.png',\n",
       " 'C119P80ThinF_IMG_20151002_122720_cell_165.png',\n",
       " 'C119P80ThinF_IMG_20151002_123043_cell_159.png',\n",
       " 'C119P80ThinF_IMG_20151002_123043_cell_169.png',\n",
       " 'C119P80ThinF_IMG_20151002_123608_cell_140.png',\n",
       " 'C119P80ThinF_IMG_20151002_123608_cell_154.png',\n",
       " 'C119P80ThinF_IMG_20151002_123911_cell_126.png',\n",
       " 'C119P80ThinF_IMG_20151002_123911_cell_140.png',\n",
       " 'C119P80ThinF_IMG_20151002_123911_cell_144.png',\n",
       " 'C119P80ThinF_IMG_20151002_124345_cell_149.png',\n",
       " 'C119P80ThinF_IMG_20151002_124345_cell_154.png',\n",
       " 'C119P80ThinF_IMG_20151002_124345_cell_164.png',\n",
       " 'C119P80ThinF_IMG_20151002_124425_cell_133.png',\n",
       " 'C119P80ThinF_IMG_20151002_124425_cell_136.png',\n",
       " 'C120P81ThinF_IMG_20151002_130150_cell_197.png',\n",
       " 'C120P81ThinF_IMG_20151002_130407_cell_180.png',\n",
       " 'C120P81ThinF_IMG_20151002_130407_cell_189.png',\n",
       " 'C120P81ThinF_IMG_20151002_130715_cell_192.png',\n",
       " 'C120P81ThinF_IMG_20151002_130715_cell_193.png',\n",
       " 'C120P81ThinF_IMG_20151002_130918_cell_193.png',\n",
       " 'C120P81ThinF_IMG_20151002_130918_cell_197.png',\n",
       " 'C120P81ThinF_IMG_20151002_130918_cell_214.png',\n",
       " 'C120P81ThinF_IMG_20151002_131120_cell_192.png',\n",
       " 'C121P82ThinF_IMG_20151002_135054_cell_95.png',\n",
       " 'C123P84ThinF_IMG_20151002_150931_cell_198.png',\n",
       " 'C123P84ThinF_IMG_20151002_151143_cell_190.png',\n",
       " 'C123P84ThinF_IMG_20151002_151432_cell_168.png',\n",
       " 'C123P84ThinF_IMG_20151002_151432_cell_171.png',\n",
       " 'C123P84ThinF_IMG_20151002_151432_cell_172.png',\n",
       " 'C123P84ThinF_IMG_20151002_151851_cell_178.png',\n",
       " 'C123P84ThinF_IMG_20151002_152144_cell_187.png',\n",
       " 'C123P84ThinF_IMG_20151002_152330_cell_195.png',\n",
       " 'C124P85ThinF_IMG_20151002_153825_cell_191.png',\n",
       " 'C124P85ThinF_IMG_20151002_153825_cell_192.png',\n",
       " 'C124P85ThinF_IMG_20151002_154808_cell_137.png',\n",
       " 'C124P85ThinF_IMG_20151002_154846_cell_150.png',\n",
       " 'C124P85ThinF_IMG_20151002_154846_cell_154.png',\n",
       " 'C124P85ThinF_IMG_20151002_154846_cell_155.png',\n",
       " 'C124P85ThinF_IMG_20151002_155026_cell_171.png',\n",
       " 'C124P85ThinF_IMG_20151002_155026_cell_173.png',\n",
       " 'C124P85ThinF_IMG_20151002_155026_cell_175.png',\n",
       " 'C124P85ThinF_IMG_20151002_155101_cell_167.png',\n",
       " 'C124P85ThinF_IMG_20151002_155101_cell_170.png',\n",
       " 'C125P86ThinF_IMG_20151004_101158_cell_156.png',\n",
       " 'C125P86ThinF_IMG_20151004_102053_cell_149.png',\n",
       " 'C126P87ThinF_IMG_20151004_104728_cell_126.png',\n",
       " 'C126P87ThinF_IMG_20151004_104728_cell_127.png',\n",
       " 'C126P87ThinF_IMG_20151004_105100_cell_133.png',\n",
       " 'C127P88ThinF_IMG_20151004_111220_cell_130.png',\n",
       " 'C128P89ThinF_IMG_20151004_130408_cell_160.png',\n",
       " 'C128P89ThinF_IMG_20151004_130408_cell_161.png',\n",
       " 'C128P89ThinF_IMG_20151004_130549_cell_140.png',\n",
       " 'C128P89ThinF_IMG_20151004_130810_cell_163.png',\n",
       " 'C128P89ThinF_IMG_20151004_131129_cell_146.png',\n",
       " 'C128P89ThinF_IMG_20151004_131129_cell_154.png',\n",
       " 'C128P89ThinF_IMG_20151004_131129_cell_159.png',\n",
       " 'C128P89ThinF_IMG_20151004_131129_cell_161.png',\n",
       " 'C128P89ThinF_IMG_20151004_131231_cell_142.png',\n",
       " 'C128P89ThinF_IMG_20151004_131231_cell_148.png',\n",
       " 'C128P89ThinF_IMG_20151004_131753_cell_132.png',\n",
       " 'C128P89ThinF_IMG_20151004_131753_cell_134.png',\n",
       " 'C129P90ThinF_IMG_20151004_133244_cell_103.png',\n",
       " 'C129P90ThinF_IMG_20151004_133244_cell_114.png',\n",
       " 'C129P90ThinF_IMG_20151004_133244_cell_123.png',\n",
       " 'C129P90ThinF_IMG_20151004_133329_cell_98.png',\n",
       " 'C129P90ThinF_IMG_20151004_133421_cell_108.png',\n",
       " 'C129P90ThinF_IMG_20151004_133421_cell_110.png',\n",
       " 'C129P90ThinF_IMG_20151004_133538_cell_101.png',\n",
       " 'C129P90ThinF_IMG_20151004_133538_cell_85.png',\n",
       " 'C129P90ThinF_IMG_20151004_133538_cell_91.png',\n",
       " 'C129P90ThinF_IMG_20151004_133703_cell_104.png',\n",
       " 'C129P90ThinF_IMG_20151004_133703_cell_106.png',\n",
       " 'C129P90ThinF_IMG_20151004_133703_cell_109.png',\n",
       " 'C129P90ThinF_IMG_20151004_133703_cell_94.png',\n",
       " 'C129P90ThinF_IMG_20151004_133921_cell_103.png',\n",
       " 'C129P90ThinF_IMG_20151004_133921_cell_110.png',\n",
       " 'C129P90ThinF_IMG_20151004_133921_cell_114.png',\n",
       " 'C129P90ThinF_IMG_20151004_133921_cell_121.png',\n",
       " 'C129P90ThinF_IMG_20151004_134306_cell_144.png',\n",
       " 'C129P90ThinF_IMG_20151004_134306_cell_145.png',\n",
       " 'C129P90ThinF_IMG_20151004_134306_cell_146.png',\n",
       " 'C129P90ThinF_IMG_20151004_134520_cell_125.png',\n",
       " 'C129P90ThinF_IMG_20151004_134700_cell_16.png',\n",
       " 'C129P90ThinF_IMG_20151004_134700_cell_19.png',\n",
       " 'C129P90ThinF_IMG_20151004_134700_cell_6.png',\n",
       " 'C129P90ThinF_IMG_20151004_134700_cell_8.png',\n",
       " 'C129P90ThinF_IMG_20151004_134944_cell_22.png',\n",
       " 'C129P90ThinF_IMG_20151004_134944_cell_25.png',\n",
       " 'C130P91ThinF_IMG_20151004_135449_cell_125.png',\n",
       " 'C130P91ThinF_IMG_20151004_135449_cell_129.png',\n",
       " 'C130P91ThinF_IMG_20151004_141341_cell_157.png',\n",
       " 'C130P91ThinF_IMG_20151004_141428_cell_130.png',\n",
       " 'C130P91ThinF_IMG_20151004_141504_cell_153.png',\n",
       " 'C130P91ThinF_IMG_20151004_141825_cell_130.png',\n",
       " 'C130P91ThinF_IMG_20151004_141825_cell_140.png',\n",
       " 'C130P91ThinF_IMG_20151004_142109_cell_144.png',\n",
       " 'C130P91ThinF_IMG_20151004_142951_cell_149.png',\n",
       " 'C130P91ThinF_IMG_20151004_142951_cell_157.png',\n",
       " 'C130P91ThinF_IMG_20151004_142951_cell_159.png',\n",
       " 'C130P91ThinF_IMG_20151004_142951_cell_162.png',\n",
       " 'C130P91ThinF_IMG_20151004_142951_cell_163.png',\n",
       " 'C131P92ThinF_IMG_20151004_145224_cell_131.png',\n",
       " 'C131P92ThinF_IMG_20151004_150208_cell_138.png',\n",
       " 'C131P92ThinF_IMG_20151004_151001_cell_123.png',\n",
       " 'C132P93ThinF_IMG_20151004_151701_cell_146.png',\n",
       " 'C132P93ThinF_IMG_20151004_151701_cell_157.png',\n",
       " 'C132P93ThinF_IMG_20151004_151701_cell_162.png',\n",
       " 'C132P93ThinF_IMG_20151004_151701_cell_177.png',\n",
       " 'C132P93ThinF_IMG_20151004_151733_cell_154.png',\n",
       " 'C132P93ThinF_IMG_20151004_151733_cell_163.png',\n",
       " 'C132P93ThinF_IMG_20151004_151733_cell_172.png',\n",
       " 'C132P93ThinF_IMG_20151004_151733_cell_175.png',\n",
       " 'C132P93ThinF_IMG_20151004_151733_cell_181.png',\n",
       " 'C132P93ThinF_IMG_20151004_151733_cell_184.png',\n",
       " 'C132P93ThinF_IMG_20151004_151733_cell_188.png',\n",
       " 'C132P93ThinF_IMG_20151004_151733_cell_189.png',\n",
       " 'C132P93ThinF_IMG_20151004_151811_cell_131.png',\n",
       " 'C132P93ThinF_IMG_20151004_151811_cell_133.png',\n",
       " 'C132P93ThinF_IMG_20151004_151811_cell_137.png',\n",
       " 'C132P93ThinF_IMG_20151004_151811_cell_148.png',\n",
       " 'C132P93ThinF_IMG_20151004_151811_cell_159.png',\n",
       " 'C132P93ThinF_IMG_20151004_151811_cell_165.png',\n",
       " 'C132P93ThinF_IMG_20151004_151811_cell_166.png',\n",
       " 'C132P93ThinF_IMG_20151004_151811_cell_173.png',\n",
       " 'C132P93ThinF_IMG_20151004_152045_cell_138.png',\n",
       " 'C132P93ThinF_IMG_20151004_152045_cell_150.png',\n",
       " 'C132P93ThinF_IMG_20151004_152045_cell_156.png',\n",
       " 'C132P93ThinF_IMG_20151004_152045_cell_160.png',\n",
       " 'C132P93ThinF_IMG_20151004_152257_cell_137.png',\n",
       " 'C132P93ThinF_IMG_20151004_152257_cell_143.png',\n",
       " 'C132P93ThinF_IMG_20151004_152257_cell_145.png',\n",
       " 'C132P93ThinF_IMG_20151004_152257_cell_154.png',\n",
       " 'C132P93ThinF_IMG_20151004_152353_cell_150.png',\n",
       " 'C132P93ThinF_IMG_20151004_152353_cell_160.png',\n",
       " 'C132P93ThinF_IMG_20151004_152353_cell_172.png',\n",
       " 'C132P93ThinF_IMG_20151004_152353_cell_173.png',\n",
       " 'C132P93ThinF_IMG_20151004_152353_cell_174.png',\n",
       " 'C132P93ThinF_IMG_20151004_152353_cell_175.png',\n",
       " 'C132P93ThinF_IMG_20151004_152353_cell_179.png',\n",
       " 'C132P93ThinF_IMG_20151004_152505_cell_113.png',\n",
       " 'C132P93ThinF_IMG_20151004_152505_cell_116.png',\n",
       " 'C132P93ThinF_IMG_20151004_152505_cell_132.png',\n",
       " 'C132P93ThinF_IMG_20151004_152642_cell_13.png',\n",
       " 'C132P93ThinF_IMG_20151004_152642_cell_34.png',\n",
       " 'C132P93ThinF_IMG_20151004_152642_cell_54.png',\n",
       " 'C132P93ThinF_IMG_20151004_152808_cell_25.png',\n",
       " 'C132P93ThinF_IMG_20151004_152808_cell_41.png',\n",
       " 'C132P93ThinF_IMG_20151004_152808_cell_51.png',\n",
       " 'C132P93ThinF_IMG_20151004_152808_cell_56.png',\n",
       " 'C132P93ThinF_IMG_20151004_153030_cell_10.png',\n",
       " 'C132P93ThinF_IMG_20151004_153030_cell_20.png',\n",
       " 'C132P93ThinF_IMG_20151004_153030_cell_22.png',\n",
       " 'C132P93ThinF_IMG_20151004_153030_cell_29.png',\n",
       " 'C132P93ThinF_IMG_20151004_153030_cell_38.png',\n",
       " 'C133P94ThinF_IMG_20151004_153930_cell_104.png',\n",
       " 'C133P94ThinF_IMG_20151004_154158_cell_114.png',\n",
       " 'C133P94ThinF_IMG_20151004_154158_cell_123.png',\n",
       " 'C133P94ThinF_IMG_20151004_154158_cell_124.png',\n",
       " 'C133P94ThinF_IMG_20151004_154351_cell_113.png',\n",
       " 'C133P94ThinF_IMG_20151004_154351_cell_97.png',\n",
       " 'C133P94ThinF_IMG_20151004_154512_cell_122.png',\n",
       " 'C133P94ThinF_IMG_20151004_154512_cell_143.png',\n",
       " 'C133P94ThinF_IMG_20151004_154512_cell_144.png',\n",
       " 'C133P94ThinF_IMG_20151004_154717_cell_131.png',\n",
       " 'C133P94ThinF_IMG_20151004_154919_cell_122.png',\n",
       " 'C133P94ThinF_IMG_20151004_154919_cell_126.png',\n",
       " 'C133P94ThinF_IMG_20151004_154919_cell_134.png',\n",
       " 'C133P94ThinF_IMG_20151004_154919_cell_143.png',\n",
       " 'C133P94ThinF_IMG_20151004_155012_cell_8.png',\n",
       " 'C133P94ThinF_IMG_20151004_155144_cell_125.png',\n",
       " 'C133P94ThinF_IMG_20151004_155144_cell_133.png',\n",
       " 'C133P94ThinF_IMG_20151004_155144_cell_141.png',\n",
       " 'C133P94ThinF_IMG_20151004_155518_cell_104.png',\n",
       " 'C133P94ThinF_IMG_20151004_155518_cell_127.png',\n",
       " 'C133P94ThinF_IMG_20151004_155912_cell_2.png',\n",
       " 'C134P95ThinF_IMG_20151005_121425_cell_127.png',\n",
       " 'C134P95ThinF_IMG_20151005_122449_cell_133.png',\n",
       " 'C134P95ThinF_IMG_20151005_122552_cell_120.png',\n",
       " 'C134P95ThinF_IMG_20151005_122552_cell_122.png',\n",
       " 'C135P96ThinF_IMG_20151005_123857_cell_161.png',\n",
       " 'C135P96ThinF_IMG_20151005_124031_cell_160.png',\n",
       " 'C135P96ThinF_IMG_20151005_124031_cell_161.png',\n",
       " 'C136P97ThinF_IMG_20151005_140538_cell_101.png',\n",
       " 'C136P97ThinF_IMG_20151005_140538_cell_117.png',\n",
       " 'C136P97ThinF_IMG_20151005_140538_cell_120.png',\n",
       " 'C136P97ThinF_IMG_20151005_140538_cell_95.png',\n",
       " 'C136P97ThinF_IMG_20151005_140646_cell_103.png',\n",
       " 'C136P97ThinF_IMG_20151005_140646_cell_109.png',\n",
       " 'C136P97ThinF_IMG_20151005_140646_cell_124.png',\n",
       " 'C136P97ThinF_IMG_20151005_141321_cell_93.png',\n",
       " 'C136P97ThinF_IMG_20151005_141803_cell_124.png',\n",
       " 'C136P97ThinF_IMG_20151005_141946_cell_104.png',\n",
       " 'C136P97ThinF_IMG_20151005_141946_cell_105.png',\n",
       " 'C136P97ThinF_IMG_20151005_141946_cell_108.png',\n",
       " 'C136P97ThinF_IMG_20151005_141946_cell_114.png',\n",
       " 'C136P97ThinF_IMG_20151005_141946_cell_117.png',\n",
       " 'C136P97ThinF_IMG_20151005_141946_cell_118.png',\n",
       " 'C136P97ThinF_IMG_20151005_141946_cell_122.png',\n",
       " 'C136P97ThinF_IMG_20151005_142437_cell_107.png',\n",
       " 'C136P97ThinF_IMG_20151005_142437_cell_121.png',\n",
       " 'C136P97ThinF_IMG_20151005_142437_cell_123.png',\n",
       " 'C136P97ThinF_IMG_20151005_142437_cell_124.png',\n",
       " 'C136P97ThinF_IMG_20151005_142627_cell_21.png',\n",
       " 'C136P97ThinF_IMG_20151005_142627_cell_8.png',\n",
       " 'C136P97ThinF_IMG_20151005_143329_cell_101.png',\n",
       " 'C136P97ThinF_IMG_20151005_143329_cell_87.png',\n",
       " 'C136P97ThinF_IMG_20151005_143329_cell_90.png',\n",
       " 'C136P97ThinF_IMG_20151005_143329_cell_93.png',\n",
       " 'C136P97ThinF_IMG_20151005_143329_cell_94.png',\n",
       " 'C136P97ThinF_IMG_20151005_143743_cell_109.png',\n",
       " 'C136P97ThinF_IMG_20151005_143743_cell_113.png',\n",
       " 'C136P97ThinF_IMG_20151005_143743_cell_118.png',\n",
       " 'C136P97ThinF_IMG_20151005_144449_cell_12.png',\n",
       " 'C136P97ThinF_IMG_20151005_144449_cell_32.png',\n",
       " 'C136P97ThinF_IMG_20151005_144727_cell_108.png',\n",
       " 'C136P97ThinF_IMG_20151005_144727_cell_111.png',\n",
       " 'C136P97ThinF_IMG_20151005_144727_cell_114.png',\n",
       " 'C136P97ThinF_IMG_20151005_144727_cell_115.png',\n",
       " 'C137P98ThinF_IMG_20151005_155444_cell_92.png',\n",
       " 'C137P98ThinF_IMG_20151005_155444_cell_94.png',\n",
       " 'C137P98ThinF_IMG_20151005_155444_cell_96.png',\n",
       " 'C137P98ThinF_IMG_20151005_160122_cell_69.png',\n",
       " 'C137P98ThinF_IMG_20151005_160122_cell_73.png',\n",
       " 'C137P98ThinF_IMG_20151005_160122_cell_75.png',\n",
       " 'C137P98ThinF_IMG_20151005_160918_cell_72.png',\n",
       " 'C137P98ThinF_IMG_20151005_161306_cell_1.png',\n",
       " 'C137P98ThinF_IMG_20151005_161306_cell_10.png',\n",
       " 'C137P98ThinF_IMG_20151005_161306_cell_9.png',\n",
       " 'C137P98ThinF_IMG_20151005_161449_cell_10.png',\n",
       " 'C137P98ThinF_IMG_20151005_161449_cell_14.png',\n",
       " 'C137P98ThinF_IMG_20151005_161449_cell_9.png',\n",
       " 'C137P98ThinF_IMG_20151005_161659_cell_11.png',\n",
       " 'C137P98ThinF_IMG_20151005_161859_cell_75.png',\n",
       " 'C137P98ThinF_IMG_20151005_162010_cell_76.png',\n",
       " 'C137P98ThinF_IMG_20151005_162010_cell_84.png',\n",
       " 'C137P98ThinF_IMG_20151005_162010_cell_90.png',\n",
       " 'C137P98ThinF_IMG_20151005_162010_cell_92.png',\n",
       " 'C137P98ThinF_IMG_20151005_162348_cell_12.png',\n",
       " 'C137P98ThinF_IMG_20151005_162348_cell_14.png',\n",
       " 'C137P98ThinF_IMG_20151005_162437_cell_83.png',\n",
       " 'C137P98ThinF_IMG_20151005_162648_cell_2.png',\n",
       " 'C137P98ThinF_IMG_20151005_162648_cell_3.png',\n",
       " 'C137P98ThinF_IMG_20151005_163218_cell_76.png',\n",
       " 'C137P98ThinF_IMG_20151005_163218_cell_86.png',\n",
       " 'C137P98ThinF_IMG_20151005_163335_cell_10.png',\n",
       " 'C137P98ThinF_IMG_20151005_163335_cell_2.png',\n",
       " 'C137P98ThinF_IMG_20151005_163335_cell_7.png',\n",
       " 'C137P98ThinF_IMG_20151005_163712_cell_84.png',\n",
       " 'C137P98ThinF_IMG_20151005_163901_cell_74.png',\n",
       " 'C137P98ThinF_IMG_20151005_163946_cell_12.png',\n",
       " 'C137P98ThinF_IMG_20151005_163946_cell_6.png',\n",
       " 'C137P98ThinF_IMG_20151005_164119_cell_71.png',\n",
       " 'C137P98ThinF_IMG_20151005_164119_cell_75.png',\n",
       " 'C137P98ThinF_IMG_20151005_164119_cell_79.png',\n",
       " 'C137P98ThinF_IMG_20151005_164119_cell_84.png',\n",
       " 'C140P101ThinF_IMG_20151005_205406_cell_166.png',\n",
       " 'C140P101ThinF_IMG_20151005_205922_cell_186.png',\n",
       " 'C140P101ThinF_IMG_20151005_210026_cell_168.png',\n",
       " 'C140P101ThinF_IMG_20151005_210207_cell_161.png',\n",
       " 'C140P101ThinF_IMG_20151005_210207_cell_167.png',\n",
       " 'C140P101ThinF_IMG_20151005_210309_cell_175.png',\n",
       " 'C140P101ThinF_IMG_20151005_210309_cell_180.png',\n",
       " 'C140P101ThinF_IMG_20151005_211530_cell_148.png',\n",
       " 'C140P101ThinF_IMG_20151005_211735_cell_158.png',\n",
       " 'C141P102ThinF_IMG_20151005_214033_cell_115.png',\n",
       " 'C141P102ThinF_IMG_20151005_214033_cell_116.png',\n",
       " 'C141P102ThinF_IMG_20151005_214208_cell_108.png',\n",
       " 'C144P105ThinF_IMG_20151015_160529_cell_268.png',\n",
       " 'C144P105ThinF_IMG_20151015_160908_cell_281.png',\n",
       " 'C144P105ThinF_IMG_20151015_163142_cell_313.png',\n",
       " 'C144P105ThinF_IMG_20151015_163142_cell_321.png',\n",
       " 'C144P105ThinF_IMG_20151015_163432_cell_307.png',\n",
       " 'C144P105ThinF_IMG_20151015_163432_cell_308.png',\n",
       " 'C145P106ThinF_IMG_20151016_154921_cell_147.png',\n",
       " 'C146P107ThinF_IMG_20151018_134554_cell_252.png',\n",
       " 'C146P107ThinF_IMG_20151018_135846_cell_219.png',\n",
       " 'C146P107ThinF_IMG_20151018_140044_cell_216.png',\n",
       " 'C146P107ThinF_IMG_20151018_140044_cell_218.png',\n",
       " 'C146P107ThinF_IMG_20151018_140342_cell_252.png',\n",
       " 'C148P109ThinF_IMG_20151115_112333_cell_239.png',\n",
       " 'C148P109ThinF_IMG_20151115_112445_cell_241.png',\n",
       " 'C149P110ThinF_IMG_20151115_114555_cell_308.png',\n",
       " 'C149P110ThinF_IMG_20151115_114629_cell_272.png',\n",
       " 'C149P110ThinF_IMG_20151115_114729_cell_260.png',\n",
       " 'C149P110ThinF_IMG_20151115_114729_cell_264.png',\n",
       " 'C149P110ThinF_IMG_20151115_114729_cell_265.png',\n",
       " 'C149P110ThinF_IMG_20151115_115154_cell_251.png',\n",
       " 'C151P112ThinF_IMG_20151115_121725_cell_225.png',\n",
       " 'C152P113ThinF_IMG_20151115_124032_cell_189.png',\n",
       " 'C152P113ThinF_IMG_20151115_124217_cell_162.png',\n",
       " 'C152P113ThinF_IMG_20151115_124323_cell_161.png',\n",
       " 'C154P115ThinF_IMG_20151115_141336_cell_235.png',\n",
       " 'C154P115ThinF_IMG_20151115_141543_cell_217.png',\n",
       " 'C154P115ThinF_IMG_20151115_141621_cell_192.png',\n",
       " 'C156P117ThinF_IMG_20151115_153831_cell_260.png',\n",
       " 'C156P117ThinF_IMG_20151115_154435_cell_298.png',\n",
       " 'C156P117ThinF_IMG_20151115_155104_cell_258.png',\n",
       " 'C156P117ThinF_IMG_20151115_155104_cell_261.png',\n",
       " 'C157P118ThinF_IMG_20151115_162818_cell_185.png',\n",
       " 'C157P118ThinF_IMG_20151115_163611_cell_215.png',\n",
       " 'C157P118ThinF_IMG_20151115_164141_cell_203.png',\n",
       " 'C157P118ThinF_IMG_20151115_164755_cell_188.png',\n",
       " 'C158P119ThinF_IMG_20151115_181035_cell_179.png',\n",
       " 'C158P119ThinF_IMG_20151115_181136_cell_199.png',\n",
       " 'C158P119ThinF_IMG_20151115_183157_cell_174.png',\n",
       " 'C159P120ThinF_IMG_20151115_185541_cell_182.png',\n",
       " 'C159P120ThinF_IMG_20151115_185541_cell_185.png',\n",
       " 'C159P120ThinF_IMG_20151115_185541_cell_190.png',\n",
       " 'C159P120ThinF_IMG_20151115_190002_cell_226.png',\n",
       " 'C159P120ThinF_IMG_20151115_190421_cell_196.png',\n",
       " 'C159P120ThinF_IMG_20151115_190812_cell_240.png',\n",
       " 'C159P120ThinF_IMG_20151115_190812_cell_248.png',\n",
       " 'C159P120ThinF_IMG_20151115_191301_cell_232.png',\n",
       " 'C164P125ThinF_IMG_20151116_113550_cell_156.png',\n",
       " 'C166P127ThinF_IMG_20151117_193931_cell_209.png',\n",
       " 'C166P127ThinF_IMG_20151117_193931_cell_210.png',\n",
       " 'C166P127ThinF_IMG_20151117_194932_cell_227.png',\n",
       " 'C166P127ThinF_IMG_20151117_195030_cell_218.png',\n",
       " 'C166P127ThinF_IMG_20151117_195030_cell_220.png',\n",
       " 'C166P127ThinF_IMG_20151117_195030_cell_222.png',\n",
       " 'C167P128ReThinF_IMG_20151201_105102_cell_250.png',\n",
       " 'C167P128ReThinF_IMG_20151201_105354_cell_241.png',\n",
       " 'C167P128ReThinF_IMG_20151201_105559_cell_225.png',\n",
       " 'C167P128ReThinF_IMG_20151201_105559_cell_236.png',\n",
       " 'C167P128ReThinF_IMG_20151201_105559_cell_242.png',\n",
       " 'C167P128ReThinF_IMG_20151201_105707_cell_229.png',\n",
       " 'C167P128ReThinF_IMG_20151201_105707_cell_231.png',\n",
       " 'C167P128ReThinF_IMG_20151201_105707_cell_233.png',\n",
       " 'C167P128ReThinF_IMG_20151201_110011_cell_235.png',\n",
       " 'C167P128ReThinF_IMG_20151201_110011_cell_239.png',\n",
       " 'C168P129ThinF_IMG_20151118_154126_cell_161.png',\n",
       " 'C168P129ThinF_IMG_20151118_154126_cell_162.png',\n",
       " 'C168P129ThinF_IMG_20151118_154651_cell_143.png',\n",
       " 'C168P129ThinF_IMG_20151118_155802_cell_151.png',\n",
       " 'C168P129ThinF_IMG_20151118_160516_cell_180.png',\n",
       " 'C168P129ThinF_IMG_20151118_160516_cell_182.png',\n",
       " 'C168P129ThinF_IMG_20151118_160845_cell_154.png',\n",
       " 'C170P131ThinF_IMG_20151119_120111_cell_238.png',\n",
       " 'C170P131ThinF_IMG_20151119_120233_cell_189.png',\n",
       " 'C171P132ThinF_IMG_20151119_153347_cell_212.png',\n",
       " 'C172P133ThinF_IMG_20151119_154936_cell_259.png',\n",
       " 'C172P133ThinF_IMG_20151119_155156_cell_252.png',\n",
       " 'C172P133ThinF_IMG_20151119_155156_cell_263.png',\n",
       " 'C172P133ThinF_IMG_20151119_155307_cell_255.png',\n",
       " 'C172P133ThinF_IMG_20151119_155343_cell_273.png',\n",
       " 'C172P133ThinF_IMG_20151119_155343_cell_285.png',\n",
       " 'C172P133ThinF_IMG_20151119_155343_cell_287.png',\n",
       " 'C174P135NThinF_IMG_20151127_135311_cell_199.png',\n",
       " 'C174P135NThinF_IMG_20151127_135311_cell_205.png',\n",
       " 'C174P135NThinF_IMG_20151127_135311_cell_209.png',\n",
       " 'C174P135NThinF_IMG_20151127_135435_cell_201.png',\n",
       " 'C174P135NThinF_IMG_20151127_135512_cell_182.png',\n",
       " 'C174P135NThinF_IMG_20151127_135554_cell_192.png',\n",
       " 'C174P135NThinF_IMG_20151127_135554_cell_200.png',\n",
       " 'C174P135NThinF_IMG_20151127_135640_cell_180.png',\n",
       " 'C174P135NThinF_IMG_20151127_135640_cell_187.png',\n",
       " 'C175P136NThinF_IMG_20151127_141253_cell_236.png',\n",
       " 'C175P136NThinF_IMG_20151127_141253_cell_253.png',\n",
       " 'C175P136NThinF_IMG_20151127_141253_cell_254.png',\n",
       " 'C175P136NThinF_IMG_20151127_141253_cell_258.png',\n",
       " 'C175P136NThinF_IMG_20151127_141325_cell_216.png',\n",
       " 'C175P136NThinF_IMG_20151127_141428_cell_212.png',\n",
       " 'C175P136NThinF_IMG_20151127_141428_cell_234.png',\n",
       " 'C175P136NThinF_IMG_20151127_141428_cell_236.png',\n",
       " 'C175P136NThinF_IMG_20151127_141428_cell_237.png',\n",
       " 'C175P136NThinF_IMG_20151127_142009_cell_212.png',\n",
       " 'C175P136NThinF_IMG_20151127_142009_cell_228.png',\n",
       " 'C175P136NThinF_IMG_20151127_142009_cell_231.png',\n",
       " 'C175P136NThinF_IMG_20151127_142009_cell_232.png',\n",
       " 'C175P136NThinF_IMG_20151127_142009_cell_233.png',\n",
       " 'C175P136NThinF_IMG_20151127_142009_cell_241.png',\n",
       " 'C175P136NThinF_IMG_20151127_142326_cell_222.png',\n",
       " 'C175P136NThinF_IMG_20151127_142326_cell_225.png',\n",
       " 'C175P136NThinF_IMG_20151127_142326_cell_228.png',\n",
       " 'C175P136NThinF_IMG_20151127_142326_cell_229.png',\n",
       " 'C175P136NThinF_IMG_20151127_142326_cell_235.png',\n",
       " 'C176P137NThinF_IMG_20151201_114035_cell_130.png',\n",
       " 'C176P137NThinF_IMG_20151201_114035_cell_137.png',\n",
       " 'C176P137NThinF_IMG_20151201_114035_cell_140.png',\n",
       " 'C176P137NThinF_IMG_20151201_120612_cell_2.png',\n",
       " 'C176P137NThinF_IMG_20151201_120612_cell_22.png',\n",
       " 'C176P137NThinF_IMG_20151201_120612_cell_28.png',\n",
       " 'C176P137NThinF_IMG_20151201_120612_cell_4.png',\n",
       " 'C176P137NThinF_IMG_20151201_120612_cell_6.png',\n",
       " 'C176P137NThinF_IMG_20151201_120845_cell_136.png',\n",
       " 'C176P137NThinF_IMG_20151201_121030_cell_2.png',\n",
       " 'C176P137NThinF_IMG_20151201_121303_cell_108.png',\n",
       " 'C176P137NThinF_IMG_20151201_121303_cell_119.png',\n",
       " 'C176P137NThinF_IMG_20151201_122444_cell_118.png',\n",
       " 'C176P137NThinF_IMG_20151201_122444_cell_123.png',\n",
       " 'C176P137NThinF_IMG_20151201_122444_cell_136.png',\n",
       " 'C176P137NThinF_IMG_20151201_122708_cell_127.png',\n",
       " 'C176P137NThinF_IMG_20151201_122708_cell_134.png',\n",
       " 'C176P137NThinF_IMG_20151201_122708_cell_144.png',\n",
       " 'C176P137NThinF_IMG_20151201_122811_cell_141.png',\n",
       " 'C176P137NThinF_IMG_20151201_122811_cell_142.png',\n",
       " 'C176P137NThinF_IMG_20151201_122811_cell_156.png',\n",
       " 'C176P137NThinF_IMG_20151201_122811_cell_160.png',\n",
       " 'C176P137NThinF_IMG_20151201_122811_cell_164.png',\n",
       " 'C177P138NThinF_IMG_20151201_142514_cell_161.png',\n",
       " 'C177P138NThinF_IMG_20151201_142846_cell_158.png',\n",
       " 'C177P138NThinF_IMG_20151201_142942_cell_168.png',\n",
       " 'C177P138NThinF_IMG_20151201_143546_cell_161.png',\n",
       " 'C177P138NThinF_IMG_20151201_143704_cell_179.png',\n",
       " 'C178P139NThinF_IMG_20151201_151903_cell_103.png',\n",
       " 'C178P139NThinF_IMG_20151201_154025_cell_128.png',\n",
       " 'C178P139NThinF_IMG_20151201_154524_cell_159.png',\n",
       " 'C179P140ThinF_IMG_20151127_153350_cell_168.png',\n",
       " 'C179P140ThinF_IMG_20151127_153350_cell_170.png',\n",
       " 'C179P140ThinF_IMG_20151127_153350_cell_179.png',\n",
       " 'C179P140ThinF_IMG_20151127_153350_cell_180.png',\n",
       " 'C179P140ThinF_IMG_20151127_153436_cell_172.png',\n",
       " 'C179P140ThinF_IMG_20151127_153453_cell_186.png',\n",
       " 'C179P140ThinF_IMG_20151127_153819_cell_169.png',\n",
       " 'C179P140ThinF_IMG_20151127_153852_cell_162.png',\n",
       " 'C179P140ThinF_IMG_20151127_153852_cell_165.png',\n",
       " 'C179P140ThinF_IMG_20151127_153852_cell_172.png',\n",
       " 'C179P140ThinF_IMG_20151127_153852_cell_173.png',\n",
       " 'C180P141NThinF_IMG_20151201_163702_cell_192.png',\n",
       " 'C180P141NThinF_IMG_20151201_163751_cell_157.png',\n",
       " 'C180P141NThinF_IMG_20151201_163751_cell_171.png',\n",
       " 'C180P141NThinF_IMG_20151201_163751_cell_173.png',\n",
       " 'C180P141NThinF_IMG_20151201_163751_cell_181.png',\n",
       " 'C180P141NThinF_IMG_20151201_163751_cell_184.png',\n",
       " 'C180P141NThinF_IMG_20151201_163848_cell_145.png',\n",
       " 'C180P141NThinF_IMG_20151201_163848_cell_154.png',\n",
       " 'C180P141NThinF_IMG_20151201_163848_cell_160.png',\n",
       " 'C180P141NThinF_IMG_20151201_163848_cell_164.png',\n",
       " 'C180P141NThinF_IMG_20151201_163848_cell_166.png',\n",
       " 'C180P141NThinF_IMG_20151201_163848_cell_168.png',\n",
       " 'C180P141NThinF_IMG_20151201_163848_cell_170.png',\n",
       " 'C180P141NThinF_IMG_20151201_163848_cell_183.png',\n",
       " 'C180P141NThinF_IMG_20151201_164714_cell_161.png',\n",
       " 'C180P141NThinF_IMG_20151201_164714_cell_170.png',\n",
       " 'C180P141NThinF_IMG_20151201_164714_cell_172.png',\n",
       " 'C180P141NThinF_IMG_20151201_164714_cell_173.png',\n",
       " 'C180P141NThinF_IMG_20151201_164714_cell_188.png',\n",
       " 'C180P141NThinF_IMG_20151201_165423_cell_156.png',\n",
       " 'C180P141NThinF_IMG_20151201_165423_cell_157.png',\n",
       " 'C180P141NThinF_IMG_20151201_165423_cell_183.png',\n",
       " 'C180P141NThinF_IMG_20151201_165453_cell_14.png',\n",
       " 'C180P141NThinF_IMG_20151201_165453_cell_25.png',\n",
       " 'C180P141NThinF_IMG_20151201_165453_cell_37.png',\n",
       " 'C180P141NThinF_IMG_20151201_165453_cell_43.png',\n",
       " 'C180P141NThinF_IMG_20151201_165453_cell_50.png',\n",
       " 'C180P141NThinF_IMG_20151201_165453_cell_7.png',\n",
       " 'C180P141NThinF_IMG_20151201_165528_cell_145.png',\n",
       " 'C180P141NThinF_IMG_20151201_165528_cell_155.png',\n",
       " 'C180P141NThinF_IMG_20151201_165528_cell_157.png',\n",
       " 'C180P141NThinF_IMG_20151201_165528_cell_159.png',\n",
       " 'C180P141NThinF_IMG_20151201_165528_cell_186.png',\n",
       " 'C180P141NThinF_IMG_20151201_165601_cell_169.png',\n",
       " 'C180P141NThinF_IMG_20151201_165601_cell_183.png',\n",
       " 'C180P141NThinF_IMG_20151201_165601_cell_187.png',\n",
       " 'C180P141NThinF_IMG_20151201_165601_cell_188.png',\n",
       " 'C180P141NThinF_IMG_20151201_165601_cell_192.png',\n",
       " 'C180P141NThinF_IMG_20151201_165659_cell_26.png',\n",
       " 'C180P141NThinF_IMG_20151201_165659_cell_27.png',\n",
       " 'C180P141NThinF_IMG_20151201_165659_cell_39.png',\n",
       " 'C180P141NThinF_IMG_20151201_165659_cell_40.png',\n",
       " 'C180P141NThinF_IMG_20151201_170021_cell_2.png',\n",
       " 'C180P141NThinF_IMG_20151201_170021_cell_21.png',\n",
       " 'C180P141NThinF_IMG_20151201_170021_cell_28.png',\n",
       " 'C180P141NThinF_IMG_20151201_170021_cell_36.png',\n",
       " 'C180P141NThinF_IMG_20151201_170021_cell_37.png',\n",
       " 'C180P141NThinF_IMG_20151201_170110_cell_15.png',\n",
       " 'C180P141NThinF_IMG_20151201_170110_cell_17.png',\n",
       " 'C180P141NThinF_IMG_20151201_170110_cell_26.png',\n",
       " 'C180P141NThinF_IMG_20151201_170110_cell_4.png',\n",
       " 'C180P141NThinF_IMG_20151201_170110_cell_6.png',\n",
       " 'C181P142ThinF_IMG_20151127_155722_cell_183.png',\n",
       " 'C181P142ThinF_IMG_20151127_155722_cell_188.png',\n",
       " 'C181P142ThinF_IMG_20151127_155722_cell_193.png',\n",
       " 'C181P142ThinF_IMG_20151127_155914_cell_158.png',\n",
       " 'C181P142ThinF_IMG_20151127_155914_cell_172.png',\n",
       " 'C181P142ThinF_IMG_20151127_160434_cell_154.png',\n",
       " 'C181P142ThinF_IMG_20151127_160434_cell_160.png',\n",
       " 'C181P142ThinF_IMG_20151127_160434_cell_165.png',\n",
       " 'C181P142ThinF_IMG_20151127_160434_cell_171.png',\n",
       " 'C181P142ThinF_IMG_20151127_160434_cell_173.png',\n",
       " 'C181P142ThinF_IMG_20151127_160434_cell_178.png',\n",
       " 'C181P142ThinF_IMG_20151127_160514_cell_167.png',\n",
       " 'C181P142ThinF_IMG_20151127_160539_cell_178.png',\n",
       " 'C181P142ThinF_IMG_20151127_160539_cell_183.png',\n",
       " 'C181P142ThinF_IMG_20151127_160539_cell_184.png',\n",
       " 'C181P142ThinF_IMG_20151127_160539_cell_190.png',\n",
       " 'C181P142ThinF_IMG_20151127_160539_cell_195.png',\n",
       " 'C181P142ThinF_IMG_20151127_160616_cell_161.png',\n",
       " 'C181P142ThinF_IMG_20151127_160650_cell_173.png',\n",
       " 'C181P142ThinF_IMG_20151127_160650_cell_177.png',\n",
       " 'C181P142ThinF_IMG_20151127_160650_cell_197.png',\n",
       " 'C182P143NThinF_IMG_20151201_171836_cell_157.png',\n",
       " 'C182P143NThinF_IMG_20151201_171836_cell_164.png',\n",
       " 'C182P143NThinF_IMG_20151201_171836_cell_172.png',\n",
       " 'C182P143NThinF_IMG_20151201_171905_cell_144.png',\n",
       " 'C182P143NThinF_IMG_20151201_171905_cell_154.png',\n",
       " 'C182P143NThinF_IMG_20151201_171905_cell_175.png',\n",
       " 'C182P143NThinF_IMG_20151201_171905_cell_176.png',\n",
       " 'C182P143NThinF_IMG_20151201_171950_cell_155.png',\n",
       " 'C182P143NThinF_IMG_20151201_171950_cell_163.png',\n",
       " 'C182P143NThinF_IMG_20151201_171950_cell_164.png',\n",
       " 'C182P143NThinF_IMG_20151201_171950_cell_181.png',\n",
       " 'C182P143NThinF_IMG_20151201_171950_cell_189.png',\n",
       " 'C182P143NThinF_IMG_20151201_171950_cell_203.png',\n",
       " 'C182P143NThinF_IMG_20151201_171950_cell_213.png',\n",
       " 'C182P143NThinF_IMG_20151201_172057_cell_136.png',\n",
       " 'C182P143NThinF_IMG_20151201_172057_cell_143.png',\n",
       " 'C182P143NThinF_IMG_20151201_172057_cell_153.png',\n",
       " 'C182P143NThinF_IMG_20151201_172057_cell_158.png',\n",
       " 'C182P143NThinF_IMG_20151201_172057_cell_161.png',\n",
       " 'C182P143NThinF_IMG_20151201_172057_cell_175.png',\n",
       " 'C182P143NThinF_IMG_20151201_172057_cell_180.png',\n",
       " 'C182P143NThinF_IMG_20151201_172216_cell_141.png',\n",
       " 'C182P143NThinF_IMG_20151201_172216_cell_154.png',\n",
       " 'C182P143NThinF_IMG_20151201_172216_cell_155.png',\n",
       " 'C182P143NThinF_IMG_20151201_172216_cell_157.png',\n",
       " 'C182P143NThinF_IMG_20151201_172216_cell_166.png',\n",
       " 'C182P143NThinF_IMG_20151201_172216_cell_167.png',\n",
       " 'C182P143NThinF_IMG_20151201_172216_cell_188.png',\n",
       " 'C182P143NThinF_IMG_20151201_172257_cell_173.png',\n",
       " 'C182P143NThinF_IMG_20151201_172257_cell_179.png',\n",
       " 'C182P143NThinF_IMG_20151201_172257_cell_181.png',\n",
       " 'C182P143NThinF_IMG_20151201_172257_cell_190.png',\n",
       " 'C182P143NThinF_IMG_20151201_172257_cell_197.png',\n",
       " 'C182P143NThinF_IMG_20151201_172524_cell_170.png',\n",
       " 'C182P143NThinF_IMG_20151201_172524_cell_172.png',\n",
       " 'C182P143NThinF_IMG_20151201_172524_cell_175.png',\n",
       " 'C182P143NThinF_IMG_20151201_172524_cell_178.png',\n",
       " 'C182P143NThinF_IMG_20151201_172524_cell_184.png',\n",
       " 'C182P143NThinF_IMG_20151201_172524_cell_195.png',\n",
       " 'C182P143NThinF_IMG_20151201_172607_cell_12.png',\n",
       " 'C182P143NThinF_IMG_20151201_172607_cell_19.png',\n",
       " 'C182P143NThinF_IMG_20151201_172607_cell_20.png',\n",
       " 'C182P143NThinF_IMG_20151201_172607_cell_25.png',\n",
       " 'C182P143NThinF_IMG_20151201_172759_cell_15.png',\n",
       " 'C182P143NThinF_IMG_20151201_172759_cell_16.png',\n",
       " 'C182P143NThinF_IMG_20151201_172759_cell_22.png',\n",
       " 'C182P143NThinF_IMG_20151201_172759_cell_28.png',\n",
       " 'C182P143NThinF_IMG_20151201_172759_cell_6.png',\n",
       " 'C182P143NThinF_IMG_20151201_172842_cell_2.png',\n",
       " 'C182P143NThinF_IMG_20151201_172842_cell_27.png',\n",
       " 'C182P143NThinF_IMG_20151201_172842_cell_3.png',\n",
       " 'C183P144NThinF_IMG_20151201_223208_cell_117.png',\n",
       " 'C183P144NThinF_IMG_20151201_223357_cell_150.png',\n",
       " 'C183P144NThinF_IMG_20151201_223431_cell_107.png',\n",
       " 'C183P144NThinF_IMG_20151201_223431_cell_109.png',\n",
       " 'C183P144NThinF_IMG_20151201_223758_cell_129.png',\n",
       " 'C183P144NThinF_IMG_20151201_223758_cell_130.png',\n",
       " 'C183P144NThinF_IMG_20151201_223758_cell_140.png',\n",
       " 'C183P144NThinF_IMG_20151201_223758_cell_143.png',\n",
       " 'C183P144NThinF_IMG_20151201_223758_cell_144.png',\n",
       " 'C183P144NThinF_IMG_20151201_224458_cell_118.png',\n",
       " 'C183P144NThinF_IMG_20151201_224458_cell_119.png',\n",
       " 'C183P144NThinF_IMG_20151201_224458_cell_124.png',\n",
       " 'C184P145ThinF_IMG_20151203_102405_cell_154.png',\n",
       " 'C184P145ThinF_IMG_20151203_102405_cell_155.png',\n",
       " 'C184P145ThinF_IMG_20151203_102405_cell_186.png',\n",
       " 'C184P145ThinF_IMG_20151203_102543_cell_139.png',\n",
       " 'C184P145ThinF_IMG_20151203_102543_cell_164.png',\n",
       " 'C184P145ThinF_IMG_20151203_102721_cell_18.png',\n",
       " 'C184P145ThinF_IMG_20151203_102721_cell_2.png',\n",
       " 'C184P145ThinF_IMG_20151203_102721_cell_29.png',\n",
       " 'C184P145ThinF_IMG_20151203_103114_cell_143.png',\n",
       " 'C184P145ThinF_IMG_20151203_103114_cell_154.png',\n",
       " 'C184P145ThinF_IMG_20151203_103114_cell_177.png',\n",
       " 'C184P145ThinF_IMG_20151203_103114_cell_179.png',\n",
       " 'C184P145ThinF_IMG_20151203_103114_cell_183.png',\n",
       " 'C184P145ThinF_IMG_20151203_103326_cell_141.png',\n",
       " 'C184P145ThinF_IMG_20151203_103637_cell_161.png',\n",
       " 'C184P145ThinF_IMG_20151203_103637_cell_173.png',\n",
       " 'C184P145ThinF_IMG_20151203_103637_cell_174.png',\n",
       " 'C184P145ThinF_IMG_20151203_103824_cell_135.png',\n",
       " 'C184P145ThinF_IMG_20151203_103824_cell_143.png',\n",
       " 'C184P145ThinF_IMG_20151203_104030_cell_4.png',\n",
       " 'C184P145ThinF_IMG_20151203_104153_cell_130.png',\n",
       " 'C184P145ThinF_IMG_20151203_104153_cell_143.png',\n",
       " 'C184P145ThinF_IMG_20151203_104153_cell_146.png',\n",
       " 'C184P145ThinF_IMG_20151203_104153_cell_150.png',\n",
       " 'C184P145ThinF_IMG_20151203_104153_cell_160.png',\n",
       " 'C184P145ThinF_IMG_20151203_104153_cell_163.png',\n",
       " 'C184P145ThinF_IMG_20151203_104153_cell_167.png',\n",
       " 'C184P145ThinF_IMG_20151203_104153_cell_173.png',\n",
       " 'C184P145ThinF_IMG_20151203_104153_cell_174.png',\n",
       " 'C184P145ThinF_IMG_20151203_104153_cell_177.png',\n",
       " 'C184P145ThinF_IMG_20151203_104153_cell_181.png',\n",
       " 'C184P145ThinF_IMG_20151203_104334_cell_26.png',\n",
       " 'C184P145ThinF_IMG_20151203_104334_cell_38.png',\n",
       " 'C184P145ThinF_IMG_20151203_104334_cell_40.png',\n",
       " 'C184P145ThinF_IMG_20151203_104334_cell_51.png',\n",
       " 'C184P145ThinF_IMG_20151203_104440_cell_20.png',\n",
       " 'C184P145ThinF_IMG_20151203_104440_cell_37.png',\n",
       " 'C185P146ThinF_IMG_20151203_110448_cell_253.png',\n",
       " 'C185P146ThinF_IMG_20151203_110448_cell_254.png',\n",
       " 'C185P146ThinF_IMG_20151203_110817_cell_257.png',\n",
       " 'C186P147NThinF_IMG_20151203_150132_cell_200.png',\n",
       " 'C186P147NThinF_IMG_20151203_150222_cell_172.png',\n",
       " 'C186P147NThinF_IMG_20151203_150408_cell_168.png',\n",
       " 'C186P147NThinF_IMG_20151203_150408_cell_171.png',\n",
       " 'C186P147NThinF_IMG_20151203_150408_cell_174.png',\n",
       " 'C186P147NThinF_IMG_20151203_150408_cell_178.png',\n",
       " 'C186P147NThinF_IMG_20151203_150408_cell_179.png',\n",
       " 'C186P147NThinF_IMG_20151203_150408_cell_180.png',\n",
       " 'C186P147NThinF_IMG_20151203_150557_cell_191.png',\n",
       " 'C186P147NThinF_IMG_20151203_150808_cell_142.png',\n",
       " 'C186P147NThinF_IMG_20151203_150859_cell_163.png',\n",
       " 'C187P148NThinF_IMG_20151203_154249_cell_137.png',\n",
       " 'C188P149ThinF_IMG_20151203_134319_cell_182.png',\n",
       " 'C188P149ThinF_IMG_20151203_134319_cell_188.png',\n",
       " 'C188P149ThinF_IMG_20151203_134419_cell_198.png',\n",
       " 'C188P149ThinF_IMG_20151203_135433_cell_177.png',\n",
       " 'C188P149ThinF_IMG_20151203_135433_cell_179.png',\n",
       " 'C189P150ThinF_IMG_20151203_140809_cell_121.png',\n",
       " 'C189P150ThinF_IMG_20151203_140809_cell_127.png',\n",
       " 'C189P150ThinF_IMG_20151203_140902_cell_114.png',\n",
       " 'C189P150ThinF_IMG_20151203_140902_cell_116.png',\n",
       " 'C189P150ThinF_IMG_20151203_141004_cell_74.png',\n",
       " 'C189P150ThinF_IMG_20151203_141004_cell_80.png',\n",
       " 'C189P150ThinF_IMG_20151203_141308_cell_65.png',\n",
       " 'C189P150ThinF_IMG_20151203_141308_cell_72.png',\n",
       " 'C189P150ThinF_IMG_20151203_141406_cell_104.png',\n",
       " 'C189P150ThinF_IMG_20151203_141615_cell_92.png',\n",
       " 'C189P150ThinF_IMG_20151203_141719_cell_58.png',\n",
       " 'C189P150ThinF_IMG_20151203_141901_cell_81.png',\n",
       " 'C189P150ThinF_IMG_20151203_141901_cell_82.png',\n",
       " 'C189P150ThinF_IMG_20151203_142113_cell_88.png',\n",
       " 'C33P1thinF_IMG_20150619_120804a_cell_224.png',\n",
       " 'C37BP2_thinF_IMG_20150620_133001a_cell_76.png',\n",
       " 'C37BP2_thinF_IMG_20150620_133111a_cell_87.png',\n",
       " 'C39P4thinF_original_IMG_20150622_105102_cell_102.png',\n",
       " 'C39P4thinF_original_IMG_20150622_105102_cell_86.png',\n",
       " 'C39P4thinF_original_IMG_20150622_105335_cell_1.png',\n",
       " 'C39P4thinF_original_IMG_20150622_105335_cell_21.png',\n",
       " 'C39P4thinF_original_IMG_20150622_105335_cell_7.png',\n",
       " 'C39P4thinF_original_IMG_20150622_105554_cell_11.png',\n",
       " 'C39P4thinF_original_IMG_20150622_105554_cell_23.png',\n",
       " 'C39P4thinF_original_IMG_20150622_105554_cell_26.png',\n",
       " 'C39P4thinF_original_IMG_20150622_105554_cell_3.png',\n",
       " 'C39P4thinF_original_IMG_20150622_105554_cell_5.png',\n",
       " 'C39P4thinF_original_IMG_20150622_105803_cell_105.png',\n",
       " 'C39P4thinF_original_IMG_20150622_105803_cell_109.png',\n",
       " 'C39P4thinF_original_IMG_20150622_105803_cell_78.png',\n",
       " 'C39P4thinF_original_IMG_20150622_105803_cell_86.png',\n",
       " 'C39P4thinF_original_IMG_20150622_105803_cell_98.png',\n",
       " 'C39P4thinF_original_IMG_20150622_110115_cell_106.png',\n",
       " 'C39P4thinF_original_IMG_20150622_110115_cell_108.png',\n",
       " 'C39P4thinF_original_IMG_20150622_110115_cell_114.png',\n",
       " 'C39P4thinF_original_IMG_20150622_110115_cell_138.png',\n",
       " 'C39P4thinF_original_IMG_20150622_110352_cell_112.png',\n",
       " 'C39P4thinF_original_IMG_20150622_110352_cell_114.png',\n",
       " 'C39P4thinF_original_IMG_20150622_110352_cell_80.png',\n",
       " 'C39P4thinF_original_IMG_20150622_110352_cell_82.png',\n",
       " 'C39P4thinF_original_IMG_20150622_110352_cell_92.png',\n",
       " 'C39P4thinF_original_IMG_20150622_110435_cell_113.png',\n",
       " 'C39P4thinF_original_IMG_20150622_110900_cell_10.png',\n",
       " 'C39P4thinF_original_IMG_20150622_110900_cell_17.png',\n",
       " 'C39P4thinF_original_IMG_20150622_110900_cell_18.png',\n",
       " 'C39P4thinF_original_IMG_20150622_110900_cell_20.png',\n",
       " 'C39P4thinF_original_IMG_20150622_110900_cell_21.png',\n",
       " 'C39P4thinF_original_IMG_20150622_110900_cell_8.png',\n",
       " 'C39P4thinF_original_IMG_20150622_111206_cell_100.png',\n",
       " 'C39P4thinF_original_IMG_20150622_111206_cell_102.png',\n",
       " 'C39P4thinF_original_IMG_20150622_111206_cell_104.png',\n",
       " 'C39P4thinF_original_IMG_20150622_111206_cell_112.png',\n",
       " 'C39P4thinF_original_IMG_20150622_111206_cell_83.png',\n",
       " 'C39P4thinF_original_IMG_20150622_111326_cell_10.png',\n",
       " 'C39P4thinF_original_IMG_20150622_111723_cell_76.png',\n",
       " 'C39P4thinF_original_IMG_20150622_111723_cell_88.png',\n",
       " 'C39P4thinF_original_IMG_20150622_111723_cell_89.png',\n",
       " 'C39P4thinF_original_IMG_20150622_111723_cell_93.png',\n",
       " 'C39P4thinF_original_IMG_20150622_111723_cell_95.png',\n",
       " 'C39P4thinF_original_IMG_20150622_111942_cell_19.png',\n",
       " 'C39P4thinF_original_IMG_20150622_111942_cell_21.png',\n",
       " 'C39P4thinF_original_IMG_20150622_111942_cell_22.png',\n",
       " 'C39P4thinF_original_IMG_20150622_111942_cell_24.png',\n",
       " 'C39P4thinF_original_IMG_20150622_111942_cell_3.png',\n",
       " 'C39P4thinF_original_IMG_20150622_111942_cell_5.png',\n",
       " 'C39P4thinF_original_IMG_20150622_112119_cell_10.png',\n",
       " 'C39P4thinF_original_IMG_20150622_113126_cell_2.png',\n",
       " 'C39P4thinF_original_IMG_20150622_113126_cell_6.png',\n",
       " 'C39P4thinF_original_IMG_20150622_113446_cell_13.png',\n",
       " 'C39P4thinF_original_IMG_20150622_113446_cell_2.png',\n",
       " 'C39P4thinF_original_IMG_20150622_113446_cell_24.png',\n",
       " 'C39P4thinF_original_IMG_20150622_113446_cell_25.png',\n",
       " 'C39P4thinF_original_IMG_20150622_113632_cell_27.png',\n",
       " 'C39P4thinF_original_IMG_20150622_113842_cell_22.png',\n",
       " 'C39P4thinF_original_IMG_20150622_113842_cell_24.png',\n",
       " 'C39P4thinF_original_IMG_20150622_113842_cell_28.png',\n",
       " 'C39P4thinF_original_IMG_20150622_113842_cell_9.png',\n",
       " 'C39P4thinF_original_IMG_20150622_114609_cell_12.png',\n",
       " 'C39P4thinF_original_IMG_20150622_114609_cell_20.png',\n",
       " 'C39P4thinF_original_IMG_20150622_114609_cell_21.png',\n",
       " 'C39P4thinF_original_IMG_20150622_114609_cell_27.png',\n",
       " 'C39P4thinF_original_IMG_20150622_114609_cell_9.png',\n",
       " 'C39P4thinF_original_IMG_20150622_114804_cell_12.png',\n",
       " 'C39P4thinF_original_IMG_20150622_114804_cell_18.png',\n",
       " 'C39P4thinF_original_IMG_20150622_114804_cell_32.png',\n",
       " 'C39P4thinF_original_IMG_20150622_114804_cell_39.png',\n",
       " 'C39P4thinF_original_IMG_20150622_114804_cell_4.png',\n",
       " 'C45P6ThinF_IMG_20151130_154725_cell_180.png',\n",
       " 'C45P6ThinF_IMG_20151130_154725_cell_186.png',\n",
       " 'C45P6ThinF_IMG_20151130_155011_cell_173.png',\n",
       " 'C45P6ThinF_IMG_20151130_155011_cell_175.png',\n",
       " 'C45P6ThinF_IMG_20151130_155011_cell_180.png',\n",
       " 'C45P6ThinF_IMG_20151130_155110_cell_202.png',\n",
       " 'C45P6ThinF_IMG_20151130_155110_cell_203.png',\n",
       " 'C45P6ThinF_IMG_20151130_155110_cell_206.png',\n",
       " 'C45P6ThinF_IMG_20151130_160135_cell_209.png',\n",
       " 'C45P6ThinF_IMG_20151130_160241_cell_204.png',\n",
       " 'C45P6ThinF_IMG_20151130_160241_cell_206.png',\n",
       " 'C45P6ThinF_IMG_20151130_160409_cell_191.png',\n",
       " 'C46P7ThinF_IMG_20151130_205558_cell_154.png',\n",
       " 'C46P7ThinF_IMG_20151130_205558_cell_159.png',\n",
       " 'C46P7ThinF_IMG_20151130_205558_cell_160.png',\n",
       " 'C46P7ThinF_IMG_20151130_205558_cell_161.png',\n",
       " 'C46P7ThinF_IMG_20151130_205756_cell_129.png',\n",
       " 'C46P7ThinF_IMG_20151130_205828_cell_141.png',\n",
       " 'C46P7ThinF_IMG_20151130_205828_cell_148.png',\n",
       " 'C46P7ThinF_IMG_20151130_205828_cell_150.png',\n",
       " 'C46P7ThinF_IMG_20151130_205828_cell_152.png',\n",
       " 'C46P7ThinF_IMG_20151130_210123_cell_119.png',\n",
       " 'C46P7ThinF_IMG_20151130_210309_cell_153.png',\n",
       " 'C46P7ThinF_IMG_20151130_210309_cell_155.png',\n",
       " 'C46P7ThinF_IMG_20151130_210743_cell_158.png',\n",
       " 'C46P7ThinF_IMG_20151130_210743_cell_161.png',\n",
       " 'C46P7ThinF_IMG_20151130_210815_cell_8.png',\n",
       " 'C46P7ThinF_IMG_20151130_210843_cell_134.png',\n",
       " 'C46P7ThinF_IMG_20151130_210843_cell_139.png',\n",
       " 'C46P7ThinF_IMG_20151130_210938_cell_161.png',\n",
       " 'C47P8thinOriginalOlympusCX21_IMG_20150717_174222_cell_159.png',\n",
       " 'C48P9thinF_IMG_20150721_160406_cell_198.png',\n",
       " 'C48P9thinF_IMG_20150721_160406_cell_229.png',\n",
       " 'C48P9thinF_IMG_20150721_160406_cell_230.png',\n",
       " 'C48P9thinF_IMG_20150721_160406_cell_245.png',\n",
       " 'C48P9thinF_IMG_20150721_160944_cell_203.png',\n",
       " 'C48P9thinF_IMG_20150721_160944_cell_226.png',\n",
       " 'C48P9thinF_IMG_20150721_160944_cell_229.png',\n",
       " 'C48P9thinF_IMG_20150721_160944_cell_232.png',\n",
       " 'C48P9thinF_IMG_20150721_161055_cell_181.png',\n",
       " 'C48P9thinF_IMG_20150721_161055_cell_182.png',\n",
       " 'C48P9thinF_IMG_20150721_161055_cell_196.png',\n",
       " 'C48P9thinF_IMG_20150721_161243_cell_155.png',\n",
       " 'C48P9thinF_IMG_20150721_161243_cell_170.png',\n",
       " 'C48P9thinF_IMG_20150721_161412_cell_196.png',\n",
       " 'C48P9thinF_IMG_20150721_162732_cell_14.png',\n",
       " 'C48P9thinF_IMG_20150721_162732_cell_2.png',\n",
       " 'C48P9thinF_IMG_20150721_162732_cell_8.png',\n",
       " 'C48P9thinF_IMG_20150721_162732_cell_9.png',\n",
       " 'C48P9thinF_IMG_20150721_163810_cell_19.png',\n",
       " 'C48P9thinF_IMG_20150721_164031_cell_11.png',\n",
       " 'C48P9thinF_IMG_20150721_164031_cell_20.png',\n",
       " 'C48P9thinF_IMG_20150721_164031_cell_24.png',\n",
       " 'C48P9thinF_IMG_20150721_164031_cell_7.png',\n",
       " 'C48P9thinF_IMG_20150721_164129_cell_11.png',\n",
       " 'C48P9thinF_IMG_20150721_164129_cell_2.png',\n",
       " 'C48P9thinF_IMG_20150721_164129_cell_21.png',\n",
       " 'C48P9thinF_IMG_20150721_164129_cell_29.png',\n",
       " 'C48P9thinF_IMG_20150721_164129_cell_3.png',\n",
       " 'C48P9thinF_IMG_20150721_164304_cell_13.png',\n",
       " 'C49P10thinF_IMG_20150724_102843_cell_181.png',\n",
       " 'C49P10thinF_IMG_20150724_103054_cell_190.png',\n",
       " 'C49P10thinF_IMG_20150724_103233_cell_203.png',\n",
       " 'C50P11thinF_IMG_20150724_115141_cell_185.png',\n",
       " 'C50P11thinF_IMG_20150724_120553_cell_145.png',\n",
       " 'C50P11thinF_IMG_20150724_120553_cell_147.png',\n",
       " 'C50P11thinF_IMG_20150724_120716_cell_151.png',\n",
       " 'C50P11thinF_IMG_20150724_120716_cell_155.png',\n",
       " 'C51AP12thinF_IMG_20150724_153313_cell_102.png',\n",
       " 'C51AP12thinF_IMG_20150724_154330_cell_108.png',\n",
       " 'C51AP12thinF_IMG_20150724_154330_cell_125.png',\n",
       " 'C51AP12thinF_IMG_20150724_155046_cell_100.png',\n",
       " 'C51AP12thinF_IMG_20150724_155046_cell_98.png',\n",
       " 'C51AP12thinF_IMG_20150724_155557_cell_72.png',\n",
       " 'C51AP12thinF_IMG_20150724_160140_cell_62.png',\n",
       " 'C51AP12thinF_IMG_20150724_162636_cell_83.png',\n",
       " 'C51AP12thinF_IMG_20150724_162636_cell_90.png',\n",
       " 'C52P13thinF_IMG_20150725_130013_cell_194.png',\n",
       " 'C56P17thinF_IMG_20150728_160537_cell_153.png',\n",
       " 'C56P17thinF_IMG_20150728_160623_cell_145.png',\n",
       " 'C59P20thinF_IMG_20150803_111244_cell_185.png',\n",
       " 'C59P20thinF_IMG_20150803_111244_cell_187.png',\n",
       " 'C59P20thinF_IMG_20150803_111244_cell_196.png',\n",
       " 'C59P20thinF_IMG_20150803_111333_cell_152.png',\n",
       " 'C59P20thinF_IMG_20150803_111333_cell_155.png',\n",
       " 'C59P20thinF_IMG_20150803_111333_cell_171.png',\n",
       " 'C59P20thinF_IMG_20150803_112733_cell_168.png',\n",
       " 'C59P20thinF_IMG_20150803_112733_cell_177.png',\n",
       " 'C59P20thinF_IMG_20150803_112733_cell_181.png',\n",
       " 'C59P20thinF_IMG_20150803_112733_cell_182.png',\n",
       " 'C59P20thinF_IMG_20150803_112733_cell_184.png',\n",
       " 'C59P20thinF_IMG_20150803_112733_cell_185.png',\n",
       " 'C59P20thinF_IMG_20150803_112733_cell_194.png',\n",
       " 'C59P20thinF_IMG_20150803_112733_cell_199.png',\n",
       " 'C59P20thinF_IMG_20150803_112733_cell_207.png',\n",
       " 'C59P20thinF_IMG_20150803_112733_cell_210.png',\n",
       " 'C59P20thinF_IMG_20150803_112733_cell_220.png',\n",
       " 'C59P20thinF_IMG_20150803_112733_cell_223.png',\n",
       " 'C59P20thinF_IMG_20150803_112802_cell_190.png',\n",
       " 'C59P20thinF_IMG_20150803_112802_cell_195.png',\n",
       " 'C59P20thinF_IMG_20150803_112858_cell_156.png',\n",
       " 'C59P20thinF_IMG_20150803_112858_cell_160.png',\n",
       " 'C59P20thinF_IMG_20150803_112858_cell_163.png',\n",
       " 'C59P20thinF_IMG_20150803_112858_cell_166.png',\n",
       " 'C59P20thinF_IMG_20150803_112858_cell_183.png',\n",
       " 'C59P20thinF_IMG_20150803_113051_cell_163.png',\n",
       " 'C59P20thinF_IMG_20150803_113051_cell_173.png',\n",
       " 'C59P20thinF_IMG_20150803_113051_cell_189.png',\n",
       " 'C59P20thinF_IMG_20150803_113139_cell_31.png',\n",
       " 'C59P20thinF_IMG_20150803_113139_cell_34.png',\n",
       " 'C59P20thinF_IMG_20150803_113139_cell_43.png',\n",
       " 'C59P20thinF_IMG_20150803_113139_cell_44.png',\n",
       " 'C59P20thinF_IMG_20150803_113139_cell_58.png',\n",
       " 'C59P20thinF_IMG_20150803_113139_cell_59.png',\n",
       " 'C59P20thinF_IMG_20150803_113430_cell_1.png',\n",
       " 'C59P20thinF_IMG_20150803_113430_cell_13.png',\n",
       " 'C59P20thinF_IMG_20150803_113430_cell_16.png',\n",
       " 'C59P20thinF_IMG_20150803_113430_cell_18.png',\n",
       " 'C59P20thinF_IMG_20150803_113430_cell_29.png',\n",
       " 'C59P20thinF_IMG_20150803_113430_cell_30.png',\n",
       " 'C59P20thinF_IMG_20150803_113430_cell_42.png',\n",
       " 'C59P20thinF_IMG_20150803_113430_cell_47.png',\n",
       " 'C59P20thinF_IMG_20150803_113430_cell_5.png',\n",
       " 'C59P20thinF_IMG_20150803_113809_cell_13.png',\n",
       " 'C59P20thinF_IMG_20150803_113809_cell_15.png',\n",
       " 'C59P20thinF_IMG_20150803_113809_cell_40.png',\n",
       " 'C59P20thinF_IMG_20150803_113809_cell_48.png',\n",
       " 'C59P20thinF_IMG_20150803_113809_cell_6.png',\n",
       " 'C59P20thinF_IMG_20150803_115303_cell_22.png',\n",
       " 'C59P20thinF_IMG_20150803_115303_cell_27.png',\n",
       " 'C59P20thinF_IMG_20150803_115303_cell_40.png',\n",
       " 'C59P20thinF_IMG_20150803_115303_cell_9.png',\n",
       " 'C60P21thinF_IMG_20150803_144003_cell_132.png',\n",
       " 'C60P21thinF_IMG_20150803_144003_cell_133.png',\n",
       " 'C60P21thinF_IMG_20150803_144510_cell_139.png',\n",
       " 'C60P21thinF_IMG_20150803_144510_cell_151.png',\n",
       " 'C60P21thinF_IMG_20150803_144629_cell_12.png',\n",
       " 'C60P21thinF_IMG_20150803_144629_cell_13.png',\n",
       " 'C60P21thinF_IMG_20150803_144629_cell_14.png',\n",
       " 'C60P21thinF_IMG_20150803_144629_cell_15.png',\n",
       " 'C60P21thinF_IMG_20150804_104919_cell_131.png',\n",
       " 'C60P21thinF_IMG_20150804_105639_cell_11.png',\n",
       " 'C60P21thinF_IMG_20150804_105639_cell_4.png',\n",
       " 'C60P21thinF_IMG_20150804_105639_cell_5.png',\n",
       " 'C60P21thinF_IMG_20150804_105955_cell_129.png',\n",
       " 'C60P21thinF_IMG_20150804_113011_cell_19.png',\n",
       " 'C60P21thinF_IMG_20150804_113602_cell_121.png',\n",
       " 'C60P21thinF_IMG_20150804_113602_cell_122.png',\n",
       " 'C62P23N_ThinF_IMG_20150818_132918_cell_196.png',\n",
       " 'C62P23N_ThinF_IMG_20150818_133055_cell_185.png',\n",
       " 'C62P23N_ThinF_IMG_20150818_133055_cell_188.png',\n",
       " 'C63P24N_ThinF_IMG_20150818_143423_cell_164.png',\n",
       " 'C63P24N_ThinF_IMG_20150818_143544_cell_174.png',\n",
       " 'C63P24N_ThinF_IMG_20150818_143544_cell_176.png',\n",
       " 'C63P24N_ThinF_IMG_20150818_143757_cell_183.png',\n",
       " 'C64P25N_ThinF_IMG_20150818_152921_cell_184.png',\n",
       " 'C65P26N_ThinF_IMG_20150818_154050_cell_177.png',\n",
       " 'C66P27N_ThinF_IMG_20150818_163419_cell_204.png',\n",
       " ...]"
      ]
     },
     "execution_count": 60,
     "metadata": {},
     "output_type": "execute_result"
    }
   ],
   "source": [
    "# Examine what is inside the two folders of test and train paths.\n",
    "\n",
    "os.listdir(test_path + '\\\\parasitized\\\\')"
   ]
  },
  {
   "cell_type": "code",
   "execution_count": 61,
   "id": "1ec01037",
   "metadata": {},
   "outputs": [
    {
     "data": {
      "text/plain": [
       "'C100P61ThinF_IMG_20150918_144104_cell_162.png'"
      ]
     },
     "execution_count": 61,
     "metadata": {},
     "output_type": "execute_result"
    }
   ],
   "source": [
    "os.listdir(train_path + '\\\\parasitized\\\\')[0]"
   ]
  },
  {
   "cell_type": "code",
   "execution_count": 62,
   "id": "0cfa9c92",
   "metadata": {},
   "outputs": [
    {
     "name": "stdout",
     "output_type": "stream",
     "text": [
      "12480\n",
      "12480\n"
     ]
    }
   ],
   "source": [
    "# finding the number of elements are there in train folders\n",
    "print(len(os.listdir(train_path + '\\\\parasitized\\\\')))\n",
    "print(len(os.listdir(train_path + '\\\\uninfected\\\\')))"
   ]
  },
  {
   "cell_type": "code",
   "execution_count": 63,
   "id": "cb979cf1",
   "metadata": {},
   "outputs": [
    {
     "name": "stdout",
     "output_type": "stream",
     "text": [
      "1300\n",
      "1300\n"
     ]
    }
   ],
   "source": [
    "# finding the number of elements are there in test folders\n",
    "print(len(os.listdir(test_path + '\\\\parasitized\\\\')))\n",
    "print(len(os.listdir(test_path + '\\\\uninfected\\\\')))"
   ]
  },
  {
   "cell_type": "code",
   "execution_count": 64,
   "id": "6a7ff050",
   "metadata": {},
   "outputs": [
    {
     "data": {
      "text/plain": [
       "'C:\\\\Users\\\\MANU VENUGOPAL\\\\Downloads\\\\cell_images\\\\cell_images\\\\train\\\\\\\\parasitized\\\\C100P61ThinF_IMG_20150918_144104_cell_162.png'"
      ]
     },
     "execution_count": 64,
     "metadata": {},
     "output_type": "execute_result"
    }
   ],
   "source": [
    "Single_train_image_path = train_path + '\\\\parasitized\\\\' + os.listdir(train_path + '\\\\parasitized\\\\')[0]\n",
    "Single_train_image_path"
   ]
  },
  {
   "cell_type": "code",
   "execution_count": 65,
   "id": "0bda3cb8",
   "metadata": {},
   "outputs": [
    {
     "data": {
      "text/plain": [
       "array([[[0., 0., 0.],\n",
       "        [0., 0., 0.],\n",
       "        [0., 0., 0.],\n",
       "        ...,\n",
       "        [0., 0., 0.],\n",
       "        [0., 0., 0.],\n",
       "        [0., 0., 0.]],\n",
       "\n",
       "       [[0., 0., 0.],\n",
       "        [0., 0., 0.],\n",
       "        [0., 0., 0.],\n",
       "        ...,\n",
       "        [0., 0., 0.],\n",
       "        [0., 0., 0.],\n",
       "        [0., 0., 0.]],\n",
       "\n",
       "       [[0., 0., 0.],\n",
       "        [0., 0., 0.],\n",
       "        [0., 0., 0.],\n",
       "        ...,\n",
       "        [0., 0., 0.],\n",
       "        [0., 0., 0.],\n",
       "        [0., 0., 0.]],\n",
       "\n",
       "       ...,\n",
       "\n",
       "       [[0., 0., 0.],\n",
       "        [0., 0., 0.],\n",
       "        [0., 0., 0.],\n",
       "        ...,\n",
       "        [0., 0., 0.],\n",
       "        [0., 0., 0.],\n",
       "        [0., 0., 0.]],\n",
       "\n",
       "       [[0., 0., 0.],\n",
       "        [0., 0., 0.],\n",
       "        [0., 0., 0.],\n",
       "        ...,\n",
       "        [0., 0., 0.],\n",
       "        [0., 0., 0.],\n",
       "        [0., 0., 0.]],\n",
       "\n",
       "       [[0., 0., 0.],\n",
       "        [0., 0., 0.],\n",
       "        [0., 0., 0.],\n",
       "        ...,\n",
       "        [0., 0., 0.],\n",
       "        [0., 0., 0.],\n",
       "        [0., 0., 0.]]], dtype=float32)"
      ]
     },
     "execution_count": 65,
     "metadata": {},
     "output_type": "execute_result"
    }
   ],
   "source": [
    "# Examining the information inide the single image\n",
    "\n",
    "imread(Single_train_image_path)"
   ]
  },
  {
   "cell_type": "code",
   "execution_count": 66,
   "id": "9f35b8c6",
   "metadata": {},
   "outputs": [
    {
     "data": {
      "text/plain": [
       "<matplotlib.image.AxesImage at 0x2dc2a0dcd90>"
      ]
     },
     "execution_count": 66,
     "metadata": {},
     "output_type": "execute_result"
    },
    {
     "data": {
      "image/png": "[encoded data removed]",
      "text/plain": [
       "<Figure size 432x288 with 1 Axes>"
      ]
     },
     "metadata": {
      "needs_background": "light"
     },
     "output_type": "display_data"
    }
   ],
   "source": [
    "#infected cells have this pink color dots in the image\n",
    "\n",
    "plt.imshow(imread(Single_train_image_path))"
   ]
  },
  {
   "cell_type": "code",
   "execution_count": 67,
   "id": "09124ff9",
   "metadata": {},
   "outputs": [
    {
     "data": {
      "text/plain": [
       "'C:\\\\Users\\\\MANU VENUGOPAL\\\\Downloads\\\\cell_images\\\\cell_images\\\\train\\\\\\\\uninfected\\\\C100P61ThinF_IMG_20150918_144104_cell_128.png'"
      ]
     },
     "execution_count": 67,
     "metadata": {},
     "output_type": "execute_result"
    }
   ],
   "source": [
    "single_train_non_infected_image = train_path + '\\\\uninfected\\\\'+ os.listdir( train_path + '\\\\uninfected\\\\')[0]\n",
    "single_train_non_infected_image"
   ]
  },
  {
   "cell_type": "code",
   "execution_count": 68,
   "id": "548f4d7a",
   "metadata": {},
   "outputs": [
    {
     "data": {
      "text/plain": [
       "<matplotlib.image.AxesImage at 0x2dc2a869640>"
      ]
     },
     "execution_count": 68,
     "metadata": {},
     "output_type": "execute_result"
    },
    {
     "data": {
      "image/png": "[encoded data removed]",
      "text/plain": [
       "<Figure size 432x288 with 1 Axes>"
      ]
     },
     "metadata": {
      "needs_background": "light"
     },
     "output_type": "display_data"
    }
   ],
   "source": [
    "# image of the uninfected cell. It will not have any pink dots in the image.\n",
    "\n",
    "plt.imshow(imread(single_train_non_infected_image))"
   ]
  },
  {
   "cell_type": "code",
   "execution_count": 69,
   "id": "a26ba201",
   "metadata": {},
   "outputs": [
    {
     "name": "stdout",
     "output_type": "stream",
     "text": [
      "(139, 160, 3)\n",
      "(148, 142, 3)\n"
     ]
    }
   ],
   "source": [
    "# Shape of the image\n",
    "\n",
    "print(imread(single_train_non_infected_image).shape)\n",
    "print(imread(Single_train_image_path).shape)"
   ]
  },
  {
   "cell_type": "code",
   "execution_count": 70,
   "id": "49d8a302",
   "metadata": {},
   "outputs": [],
   "source": [
    "# We can see that shape of the image is different\n",
    "# One thing we can do in this scenario is that take the mean of all the diamension\n",
    "# and reshaping every image to the means value.\n",
    "\n",
    "dim1 = []\n",
    "dim2 = []\n",
    "\n",
    "for image in os.listdir(test_path + '\\\\parasitized\\\\'):\n",
    "    imr_image = imread(test_path + '\\\\parasitized\\\\' + image)\n",
    "    d1, d2, color_channel = imr_image.shape\n",
    "    dim1.append(d1)\n",
    "    dim2.append(d2)"
   ]
  },
  {
   "cell_type": "code",
   "execution_count": 71,
   "id": "257fba65",
   "metadata": {},
   "outputs": [
    {
     "data": {
      "text/plain": [
       "1300"
      ]
     },
     "execution_count": 71,
     "metadata": {},
     "output_type": "execute_result"
    }
   ],
   "source": [
    "len(dim1)"
   ]
  },
  {
   "cell_type": "code",
   "execution_count": 72,
   "id": "0b2afea2",
   "metadata": {},
   "outputs": [
    {
     "name": "stderr",
     "output_type": "stream",
     "text": [
      "C:\\ProgramData\\Anaconda3\\lib\\site-packages\\seaborn\\_decorators.py:36: FutureWarning: Pass the following variables as keyword args: x, y. From version 0.12, the only valid positional argument will be `data`, and passing other arguments without an explicit keyword will result in an error or misinterpretation.\n",
      "  warnings.warn(\n"
     ]
    },
    {
     "data": {
      "text/plain": [
       "<seaborn.axisgrid.JointGrid at 0x2dc2a909280>"
      ]
     },
     "execution_count": 72,
     "metadata": {},
     "output_type": "execute_result"
    },
    {
     "data": {
      "image/png": "[encoded data removed]",
      "text/plain": [
       "<Figure size 432x432 with 3 Axes>"
      ]
     },
     "metadata": {
      "needs_background": "light"
     },
     "output_type": "display_data"
    }
   ],
   "source": [
    "# Plot between dim1 and dim2, too see more concentrated areas\n",
    "\n",
    "sns.jointplot(dim1, dim2)"
   ]
  },
  {
   "cell_type": "code",
   "execution_count": 73,
   "id": "4545fcb7",
   "metadata": {},
   "outputs": [
    {
     "data": {
      "text/plain": [
       "134.64307692307693"
      ]
     },
     "execution_count": 73,
     "metadata": {},
     "output_type": "execute_result"
    }
   ],
   "source": [
    "np.mean(dim1)"
   ]
  },
  {
   "cell_type": "code",
   "execution_count": 74,
   "id": "82983d71",
   "metadata": {},
   "outputs": [
    {
     "data": {
      "text/plain": [
       "133.31846153846155"
      ]
     },
     "execution_count": 74,
     "metadata": {},
     "output_type": "execute_result"
    }
   ],
   "source": [
    "np.mean(dim2)"
   ]
  },
  {
   "cell_type": "code",
   "execution_count": 75,
   "id": "47ea4027",
   "metadata": {},
   "outputs": [],
   "source": [
    "# So for every image we will reshape to 130 * 130 * 3"
   ]
  },
  {
   "cell_type": "markdown",
   "id": "f79f8249",
   "metadata": {},
   "source": [
    "### PreProcessing the Inputs"
   ]
  },
  {
   "cell_type": "code",
   "execution_count": 76,
   "id": "b1a195dc",
   "metadata": {},
   "outputs": [],
   "source": [
    "# Now we are going to preprocess the image by data augmentation\n",
    "# Data Augmentation will be done by ImageDataGenerator class.\n",
    "\n",
    "\n",
    "from tensorflow.keras.preprocessing.image import ImageDataGenerator"
   ]
  },
  {
   "cell_type": "code",
   "execution_count": 78,
   "id": "757f335a",
   "metadata": {},
   "outputs": [],
   "source": [
    "image_gen = ImageDataGenerator(rotation_range=20,\n",
    "                              horizontal_flip=True,\n",
    "                              width_shift_range=0.1,\n",
    "                              height_shift_range=0.1,\n",
    "                              shear_range=0.1,\n",
    "                              zoom_range=0.1,\n",
    "                              fill_mode='nearest')"
   ]
  },
  {
   "cell_type": "code",
   "execution_count": 79,
   "id": "b12de82c",
   "metadata": {},
   "outputs": [
    {
     "name": "stdout",
     "output_type": "stream",
     "text": [
      "Found 24958 images belonging to 2 classes.\n"
     ]
    },
    {
     "data": {
      "text/plain": [
       "<keras.preprocessing.image.DirectoryIterator at 0x2dc2a7073d0>"
      ]
     },
     "execution_count": 79,
     "metadata": {},
     "output_type": "execute_result"
    }
   ],
   "source": [
    "image_gen.flow_from_directory(train_path)"
   ]
  },
  {
   "cell_type": "code",
   "execution_count": 80,
   "id": "3919df82",
   "metadata": {},
   "outputs": [
    {
     "name": "stdout",
     "output_type": "stream",
     "text": [
      "Found 2600 images belonging to 2 classes.\n"
     ]
    },
    {
     "data": {
      "text/plain": [
       "<keras.preprocessing.image.DirectoryIterator at 0x2dc2a7a5940>"
      ]
     },
     "execution_count": 80,
     "metadata": {},
     "output_type": "execute_result"
    }
   ],
   "source": [
    "image_gen.flow_from_directory(test_path)"
   ]
  },
  {
   "cell_type": "code",
   "execution_count": null,
   "id": "ac813a16",
   "metadata": {},
   "outputs": [],
   "source": []
  },
  {
   "cell_type": "markdown",
   "id": "bd5ce712",
   "metadata": {},
   "source": [
    "### Building the model"
   ]
  },
  {
   "cell_type": "code",
   "execution_count": 83,
   "id": "11a32b62",
   "metadata": {},
   "outputs": [],
   "source": [
    "image_shape = (130, 130,3)"
   ]
  },
  {
   "cell_type": "code",
   "execution_count": 84,
   "id": "9acefa10",
   "metadata": {},
   "outputs": [],
   "source": [
    "from tensorflow.keras.models import Sequential\n",
    "from tensorflow.keras.layers import Conv2D, MaxPool2D, Flatten, Dense, Dropout"
   ]
  },
  {
   "cell_type": "code",
   "execution_count": 85,
   "id": "2fc9eed8",
   "metadata": {},
   "outputs": [],
   "source": [
    "model = Sequential()\n",
    "\n",
    "model.add(Conv2D(filters=32, kernel_size=(3,3), input_shape=image_shape,\n",
    "                activation='relu'))\n",
    "model.add(MaxPool2D(pool_size=(2,2)))\n",
    "\n",
    "model.add(Conv2D(filters=64, kernel_size=(3,3), input_shape=image_shape,\n",
    "                activation='relu'))\n",
    "model.add(MaxPool2D(pool_size=(2,2)))\n",
    "\n",
    "model.add(Conv2D(filters=64, kernel_size=(3,3), input_shape=image_shape,\n",
    "                activation='relu'))\n",
    "model.add(MaxPool2D(pool_size=(2,2)))\n",
    "\n",
    "model.add(Flatten())\n",
    "\n",
    "model.add(Dense(units=128, activation='relu'))\n",
    "model.add(Dropout(0.5))\n",
    "\n",
    "model.add(Dense(units=1, activation='sigmoid')) #Output layer and binary classification\n",
    "\n",
    "model.compile(optimizer='adam', loss='binary_crossentropy', metrics=['accuracy'])"
   ]
  },
  {
   "cell_type": "code",
   "execution_count": 86,
   "id": "7fff0e01",
   "metadata": {},
   "outputs": [
    {
     "name": "stdout",
     "output_type": "stream",
     "text": [
      "Model: \"sequential\"\n",
      "_________________________________________________________________\n",
      " Layer (type)                Output Shape              Param #   \n",
      "=================================================================\n",
      " conv2d (Conv2D)             (None, 128, 128, 32)      896       \n",
      "                                                                 \n",
      " max_pooling2d (MaxPooling2D  (None, 64, 64, 32)       0         \n",
      " )                                                               \n",
      "                                                                 \n",
      " conv2d_1 (Conv2D)           (None, 62, 62, 64)        18496     \n",
      "                                                                 \n",
      " max_pooling2d_1 (MaxPooling  (None, 31, 31, 64)       0         \n",
      " 2D)                                                             \n",
      "                                                                 \n",
      " conv2d_2 (Conv2D)           (None, 29, 29, 64)        36928     \n",
      "                                                                 \n",
      " max_pooling2d_2 (MaxPooling  (None, 14, 14, 64)       0         \n",
      " 2D)                                                             \n",
      "                                                                 \n",
      " flatten (Flatten)           (None, 12544)             0         \n",
      "                                                                 \n",
      " dense (Dense)               (None, 128)               1605760   \n",
      "                                                                 \n",
      " dropout (Dropout)           (None, 128)               0         \n",
      "                                                                 \n",
      " dense_1 (Dense)             (None, 1)                 129       \n",
      "                                                                 \n",
      "=================================================================\n",
      "Total params: 1,662,209\n",
      "Trainable params: 1,662,209\n",
      "Non-trainable params: 0\n",
      "_________________________________________________________________\n"
     ]
    }
   ],
   "source": [
    "model.summary()"
   ]
  },
  {
   "cell_type": "code",
   "execution_count": 87,
   "id": "e2edaccd",
   "metadata": {},
   "outputs": [],
   "source": [
    "# Early Stopping to avoid overfitting apart from Dropout layers\n",
    "\n",
    "from tensorflow.keras.callbacks import EarlyStopping\n",
    "\n",
    "early_stop = EarlyStopping(monitor='val_loss', patience=2)"
   ]
  },
  {
   "cell_type": "code",
   "execution_count": 89,
   "id": "a26e45c9",
   "metadata": {},
   "outputs": [],
   "source": [
    "# Defining the batch size.\n",
    "# Batch_Size=16 means taking 16 images at a time for training.\n",
    "# If the hardware is too good, then we can take big batch_size.\n",
    "# If the batch_size is small, then it will take much larger training time.\n",
    "\n",
    "batch_size = 16\n",
    "#input_shape = (130,130,3)"
   ]
  },
  {
   "cell_type": "code",
   "execution_count": 90,
   "id": "30ff8f3c",
   "metadata": {},
   "outputs": [
    {
     "name": "stdout",
     "output_type": "stream",
     "text": [
      "Found 24958 images belonging to 2 classes.\n"
     ]
    }
   ],
   "source": [
    "train_image_gen = image_gen.flow_from_directory(train_path,\n",
    "                                               batch_size=batch_size,\n",
    "                                               color_mode='rgb',\n",
    "                                               class_mode='binary',\n",
    "                                               target_size=image_shape[:2])"
   ]
  },
  {
   "cell_type": "code",
   "execution_count": 91,
   "id": "9d1425eb",
   "metadata": {},
   "outputs": [
    {
     "name": "stdout",
     "output_type": "stream",
     "text": [
      "Found 2600 images belonging to 2 classes.\n"
     ]
    }
   ],
   "source": [
    "test_image_gen = image_gen.flow_from_directory(test_path,\n",
    "                                              target_size=image_shape[:2],\n",
    "                                              color_mode='rgb',\n",
    "                                              batch_size=batch_size,\n",
    "                                              class_mode='binary',\n",
    "                                              shuffle=False)"
   ]
  },
  {
   "cell_type": "code",
   "execution_count": 92,
   "id": "bdd4417c",
   "metadata": {},
   "outputs": [
    {
     "name": "stderr",
     "output_type": "stream",
     "text": [
      "C:\\Users\\MANUVE~1\\AppData\\Local\\Temp/ipykernel_9972/2041899274.py:1: UserWarning: `Model.fit_generator` is deprecated and will be removed in a future version. Please use `Model.fit`, which supports generators.\n",
      "  result = model.fit_generator(train_image_gen,\n"
     ]
    },
    {
     "name": "stdout",
     "output_type": "stream",
     "text": [
      "Epoch 1/20\n",
      "1560/1560 [==============================] - 437s 280ms/step - loss: 0.9330 - accuracy: 0.5490 - val_loss: 0.6841 - val_accuracy: 0.5519\n",
      "Epoch 2/20\n",
      "1560/1560 [==============================] - 288s 184ms/step - loss: 0.6810 - accuracy: 0.5731 - val_loss: 0.6775 - val_accuracy: 0.5723\n",
      "Epoch 3/20\n",
      "1560/1560 [==============================] - 286s 183ms/step - loss: 0.6738 - accuracy: 0.5892 - val_loss: 0.6743 - val_accuracy: 0.6115\n",
      "Epoch 4/20\n",
      "1560/1560 [==============================] - 284s 182ms/step - loss: 0.4567 - accuracy: 0.7799 - val_loss: 0.2257 - val_accuracy: 0.9319\n",
      "Epoch 5/20\n",
      "1560/1560 [==============================] - 286s 183ms/step - loss: 0.1995 - accuracy: 0.9372 - val_loss: 0.1892 - val_accuracy: 0.9369\n",
      "Epoch 6/20\n",
      "1560/1560 [==============================] - 285s 183ms/step - loss: 0.1857 - accuracy: 0.9422 - val_loss: 0.1897 - val_accuracy: 0.9392\n",
      "Epoch 7/20\n",
      "1560/1560 [==============================] - 289s 185ms/step - loss: 0.1837 - accuracy: 0.9432 - val_loss: 0.1799 - val_accuracy: 0.9377\n",
      "Epoch 8/20\n",
      "1560/1560 [==============================] - 284s 182ms/step - loss: 0.1792 - accuracy: 0.9435 - val_loss: 0.1742 - val_accuracy: 0.9423\n",
      "Epoch 9/20\n",
      "1560/1560 [==============================] - 286s 183ms/step - loss: 0.1788 - accuracy: 0.9446 - val_loss: 0.1765 - val_accuracy: 0.9446\n",
      "Epoch 10/20\n",
      "1560/1560 [==============================] - 289s 185ms/step - loss: 0.1734 - accuracy: 0.9459 - val_loss: 0.1776 - val_accuracy: 0.9465\n"
     ]
    }
   ],
   "source": [
    "result = model.fit_generator(train_image_gen,\n",
    "                            validation_data=test_image_gen,\n",
    "                            epochs=20,\n",
    "                            callbacks=[early_stop])"
   ]
  },
  {
   "cell_type": "code",
   "execution_count": 94,
   "id": "bd0211ac",
   "metadata": {},
   "outputs": [],
   "source": [
    "from tensorflow.keras.models import load_model\n",
    "\n",
    "model.save('malaria_detector.h5')"
   ]
  },
  {
   "cell_type": "markdown",
   "id": "758af1f6",
   "metadata": {},
   "source": [
    "### Evaluation of the model"
   ]
  },
  {
   "cell_type": "code",
   "execution_count": 95,
   "id": "590a17ce",
   "metadata": {},
   "outputs": [
    {
     "data": {
      "text/html": [
       "<div>\n",
       "<style scoped>\n",
       "    .dataframe tbody tr th:only-of-type {\n",
       "        vertical-align: middle;\n",
       "    }\n",
       "\n",
       "    .dataframe tbody tr th {\n",
       "        vertical-align: top;\n",
       "    }\n",
       "\n",
       "    .dataframe thead th {\n",
       "        text-align: right;\n",
       "    }\n",
       "</style>\n",
       "<table border=\"1\" class=\"dataframe\">\n",
       "  <thead>\n",
       "    <tr style=\"text-align: right;\">\n",
       "      <th></th>\n",
       "      <th>loss</th>\n",
       "      <th>accuracy</th>\n",
       "      <th>val_loss</th>\n",
       "      <th>val_accuracy</th>\n",
       "    </tr>\n",
       "  </thead>\n",
       "  <tbody>\n",
       "    <tr>\n",
       "      <th>0</th>\n",
       "      <td>0.932954</td>\n",
       "      <td>0.549002</td>\n",
       "      <td>0.684116</td>\n",
       "      <td>0.551923</td>\n",
       "    </tr>\n",
       "    <tr>\n",
       "      <th>1</th>\n",
       "      <td>0.680952</td>\n",
       "      <td>0.573083</td>\n",
       "      <td>0.677519</td>\n",
       "      <td>0.572308</td>\n",
       "    </tr>\n",
       "    <tr>\n",
       "      <th>2</th>\n",
       "      <td>0.673797</td>\n",
       "      <td>0.589190</td>\n",
       "      <td>0.674347</td>\n",
       "      <td>0.611538</td>\n",
       "    </tr>\n",
       "    <tr>\n",
       "      <th>3</th>\n",
       "      <td>0.456739</td>\n",
       "      <td>0.779910</td>\n",
       "      <td>0.225674</td>\n",
       "      <td>0.931923</td>\n",
       "    </tr>\n",
       "    <tr>\n",
       "      <th>4</th>\n",
       "      <td>0.199484</td>\n",
       "      <td>0.937174</td>\n",
       "      <td>0.189179</td>\n",
       "      <td>0.936923</td>\n",
       "    </tr>\n",
       "  </tbody>\n",
       "</table>\n",
       "</div>"
      ],
      "text/plain": [
       "       loss  accuracy  val_loss  val_accuracy\n",
       "0  0.932954  0.549002  0.684116      0.551923\n",
       "1  0.680952  0.573083  0.677519      0.572308\n",
       "2  0.673797  0.589190  0.674347      0.611538\n",
       "3  0.456739  0.779910  0.225674      0.931923\n",
       "4  0.199484  0.937174  0.189179      0.936923"
      ]
     },
     "execution_count": 95,
     "metadata": {},
     "output_type": "execute_result"
    }
   ],
   "source": [
    "model_hist = pd.DataFrame(model.history.history)\n",
    "model_hist.head()"
   ]
  },
  {
   "cell_type": "code",
   "execution_count": 96,
   "id": "4c7cd041",
   "metadata": {},
   "outputs": [
    {
     "data": {
      "text/plain": [
       "<AxesSubplot:>"
      ]
     },
     "execution_count": 96,
     "metadata": {},
     "output_type": "execute_result"
    },
    {
     "data": {
      "image/png": "[encoded data removed]",
      "text/plain": [
       "<Figure size 432x288 with 1 Axes>"
      ]
     },
     "metadata": {
      "needs_background": "light"
     },
     "output_type": "display_data"
    }
   ],
   "source": [
    "model_hist[['loss', 'val_loss']].plot()"
   ]
  },
  {
   "cell_type": "code",
   "execution_count": 97,
   "id": "31f1d7f3",
   "metadata": {},
   "outputs": [
    {
     "data": {
      "text/plain": [
       "<AxesSubplot:>"
      ]
     },
     "execution_count": 97,
     "metadata": {},
     "output_type": "execute_result"
    },
    {
     "data": {
      "image/png": "[encoded data removed]",
      "text/plain": [
       "<Figure size 432x288 with 1 Axes>"
      ]
     },
     "metadata": {
      "needs_background": "light"
     },
     "output_type": "display_data"
    }
   ],
   "source": [
    "model_hist[['accuracy', 'val_accuracy']].plot()"
   ]
  },
  {
   "cell_type": "code",
   "execution_count": 98,
   "id": "815065f4",
   "metadata": {},
   "outputs": [],
   "source": [
    "from sklearn.metrics import classification_report, confusion_matrix"
   ]
  },
  {
   "cell_type": "code",
   "execution_count": 99,
   "id": "fa2bb1fe",
   "metadata": {},
   "outputs": [
    {
     "name": "stderr",
     "output_type": "stream",
     "text": [
      "C:\\Users\\MANUVE~1\\AppData\\Local\\Temp/ipykernel_9972/1432187859.py:1: UserWarning: `Model.predict_generator` is deprecated and will be removed in a future version. Please use `Model.predict`, which supports generators.\n",
      "  pred = model.predict_generator(test_image_gen)\n"
     ]
    },
    {
     "data": {
      "text/plain": [
       "array([[5.0113499e-03],\n",
       "       [9.6567774e-06],\n",
       "       [4.2670369e-03],\n",
       "       ...,\n",
       "       [9.5643473e-01],\n",
       "       [9.9002373e-01],\n",
       "       [9.4569123e-01]], dtype=float32)"
      ]
     },
     "execution_count": 99,
     "metadata": {},
     "output_type": "execute_result"
    }
   ],
   "source": [
    "pred = model.predict_generator(test_image_gen)\n",
    "pred"
   ]
  },
  {
   "cell_type": "code",
   "execution_count": 101,
   "id": "e17577c7",
   "metadata": {},
   "outputs": [
    {
     "data": {
      "text/plain": [
       "array([[False],\n",
       "       [False],\n",
       "       [False],\n",
       "       ...,\n",
       "       [ True],\n",
       "       [ True],\n",
       "       [ True]])"
      ]
     },
     "execution_count": 101,
     "metadata": {},
     "output_type": "execute_result"
    }
   ],
   "source": [
    "# we will classify image as uninfected if the value is greater than 0.5\n",
    "# and paracitized if the image is less than 0.5\n",
    "\n",
    "prediction = pred > 0.5\n",
    "prediction"
   ]
  },
  {
   "cell_type": "code",
   "execution_count": 104,
   "id": "3b5935e6",
   "metadata": {},
   "outputs": [
    {
     "data": {
      "text/plain": [
       "array([0, 0, 0, ..., 1, 1, 1])"
      ]
     },
     "execution_count": 104,
     "metadata": {},
     "output_type": "execute_result"
    }
   ],
   "source": [
    "# We can not give test_image_gen to the classification as true value as they are images\n",
    "# Instead we have to pass their classes\n",
    "\n",
    "test_image_gen.classes"
   ]
  },
  {
   "cell_type": "code",
   "execution_count": 105,
   "id": "9ffa1654",
   "metadata": {},
   "outputs": [
    {
     "name": "stdout",
     "output_type": "stream",
     "text": [
      "              precision    recall  f1-score   support\n",
      "\n",
      "           0       0.97      0.92      0.94      1300\n",
      "           1       0.92      0.97      0.95      1300\n",
      "\n",
      "    accuracy                           0.94      2600\n",
      "   macro avg       0.95      0.94      0.94      2600\n",
      "weighted avg       0.95      0.94      0.94      2600\n",
      "\n"
     ]
    }
   ],
   "source": [
    "print(classification_report(test_image_gen.classes, prediction))"
   ]
  },
  {
   "cell_type": "code",
   "execution_count": 107,
   "id": "0326a21a",
   "metadata": {},
   "outputs": [
    {
     "data": {
      "text/plain": [
       "<AxesSubplot:>"
      ]
     },
     "execution_count": 107,
     "metadata": {},
     "output_type": "execute_result"
    },
    {
     "data": {
      "image/png": "[encoded data removed]",
      "text/plain": [
       "<Figure size 432x288 with 2 Axes>"
      ]
     },
     "metadata": {
      "needs_background": "light"
     },
     "output_type": "display_data"
    }
   ],
   "source": [
    "sns.heatmap(confusion_matrix(test_image_gen.classes, prediction), annot=True)"
   ]
  },
  {
   "cell_type": "code",
   "execution_count": null,
   "id": "2bd3cfc5",
   "metadata": {},
   "outputs": [],
   "source": []
  }
 ],
 "metadata": {
  "kernelspec": {
   "display_name": "Python 3 (ipykernel)",
   "language": "python",
   "name": "python3"
  },
  "language_info": {
   "codemirror_mode": {
    "name": "ipython",
    "version": 3
   },
   "file_extension": ".py",
   "mimetype": "text/x-python",
   "name": "python",
   "nbconvert_exporter": "python",
   "pygments_lexer": "ipython3",
   "version": "3.9.7"
  }
 },
 "nbformat": 4,
 "nbformat_minor": 5
}
